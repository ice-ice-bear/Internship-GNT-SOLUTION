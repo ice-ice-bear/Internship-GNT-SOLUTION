{
 "cells": [
  {
   "cell_type": "markdown",
   "id": "b5476805",
   "metadata": {},
   "source": [
    "## Not using confidence score"
   ]
  },
  {
   "cell_type": "code",
   "execution_count": 18,
   "id": "a48fdd97",
   "metadata": {},
   "outputs": [
    {
     "name": "stdout",
     "output_type": "stream",
     "text": [
      "Sorted results saved to H:\\02.가공데이터\\02._AIMMO\\to_aimmo\\3.3차(2302~)\\2306\\side_1\\230612\\seat1_0.8.txt\n"
     ]
    }
   ],
   "source": [
    "#Using only class id (not using the confidence score)\n",
    "\n",
    "import os\n",
    "\n",
    "# Path to folder containing the result files\n",
    "result_folder =  r'R:\\seatbelt\\ms_daily_testdata\\detect\\ms_230612\\labels'\n",
    "\n",
    "# Output file to save the sorted results\n",
    "output_file = r'H:\\02.가공데이터\\02._AIMMO\\to_aimmo\\3.3차(2302~)\\2306\\side_1\\230612\\seat1_0.8.txt'\n",
    "\n",
    "# Loop over all files in the folder with .txt extension\n",
    "result_files = [f for f in os.listdir(result_folder) if f.endswith('.txt')]\n",
    "\n",
    "# Create a set to store the existing file names in the output file\n",
    "existing_files = set()\n",
    "\n",
    "# Read the existing file names from the output file, if it exists\n",
    "if os.path.exists(output_file):\n",
    "    with open(output_file, 'r') as f:\n",
    "        lines = f.readlines()\n",
    "        for line in lines:\n",
    "            file_name = line.strip()\n",
    "            existing_files.add(file_name)\n",
    "\n",
    "# Create an empty list to store the file names and detection scores\n",
    "detections = []\n",
    "\n",
    "# Loop over each file and extract the detection scores for classes 2 through 9\n",
    "for file in result_files:\n",
    "    try:\n",
    "        with open(os.path.join(result_folder, file), 'r') as f:\n",
    "            lines = f.readlines()\n",
    "            for line in lines:\n",
    "                # Split the line into class and confidence score\n",
    "                class_id, *scores = line.strip().split()\n",
    "                class_id = int(class_id)\n",
    "                confidence = float(scores[-1])\n",
    "                # Check if the certain class_id and add the file name and score to the list if it is\n",
    "    #             if class_id in range(2,10):\n",
    "                if class_id == 3 and confidence >= 0.85:\n",
    "#                     file_name = os.path.splitext(file)[0] + '.jpg'\n",
    "                    file_name = os.path.splitext(file)[0]\n",
    "                    if file_name.startswith('side1') and '_yolo' not in file_name:\n",
    "                        if file_name not in existing_files:\n",
    "                            detections.append((file_name, confidence))\n",
    "    except ValueError as e:\n",
    "        print(f'ValueError: {str(e)} occurred while processing file {file} \\n')\n",
    "\n",
    "# Sort the detections list in descending order of confidence scores\n",
    "detections = sorted(detections, key=lambda x: x[1], reverse=True)\n",
    "\n",
    "# Append the sorted results to the output file, if it exists\n",
    "with open(output_file, 'a' if os.path.exists(output_file) else 'w') as f:\n",
    "    for detection in detections:\n",
    "        f.write(f'{detection[0]}\\n')\n",
    "\n",
    "print(f'Sorted results saved to {output_file}')"
   ]
  },
  {
   "cell_type": "code",
   "execution_count": 16,
   "id": "47875ce0",
   "metadata": {},
   "outputs": [
    {
     "name": "stderr",
     "output_type": "stream",
     "text": [
      "100%|██████████| 6257/6257 [00:35<00:00, 178.03it/s]"
     ]
    },
    {
     "name": "stdout",
     "output_type": "stream",
     "text": [
      "Sorted results saved to C:\\Users\\Gnt_Safe_Port_DT\\LSR\\seat1_0.85.txt\n"
     ]
    },
    {
     "name": "stderr",
     "output_type": "stream",
     "text": [
      "\n"
     ]
    }
   ],
   "source": [
    "import os\n",
    "from tqdm import tqdm\n",
    "\n",
    "# Path to folder containing the result files\n",
    "result_folder =  r'R:\\seatbelt\\ms_daily_testdata\\detect\\ms_230612\\labels'\n",
    "\n",
    "# Output file to save the sorted results\n",
    "output_file = r'C:\\Users\\Gnt_Safe_Port_DT\\LSR\\seat1_0.85.txt'\n",
    "\n",
    "# Loop over all files in the folder with .txt extension\n",
    "result_files = [f for f in os.listdir(result_folder) if f.endswith('.txt')]\n",
    "\n",
    "# Create a set to store the existing file names in the output file\n",
    "existing_files = set()\n",
    "\n",
    "# Read the existing file names from the output file, if it exists\n",
    "if os.path.exists(output_file):\n",
    "    with open(output_file, 'r') as f:\n",
    "        lines = f.readlines()\n",
    "        for line in lines:\n",
    "            file_name = line.strip()\n",
    "            existing_files.add(file_name)\n",
    "\n",
    "\n",
    "# Create an empty list to store the file names and detection scores\n",
    "detections = []\n",
    "\n",
    "# Loop over each file and extract the detection scores for classes 2 through 9\n",
    "for file in tqdm(result_files):\n",
    "    try:\n",
    "        with open(os.path.join(result_folder, file), 'r') as f:\n",
    "            lines = f.readlines()\n",
    "            for line in lines:\n",
    "                # Split the line into class and confidence score\n",
    "                class_id, *scores = line.strip().split()\n",
    "                class_id = int(class_id)\n",
    "                confidence = float(scores[-1])\n",
    "                # Check if the certain class_id and add the file name and score to the list if it is\n",
    "    #             if class_id in range(2,10):\n",
    "                if class_id == 3 and confidence >= 0.85:\n",
    "#                     file_name = os.path.splitext(file)[0] + '.jpg'\n",
    "                    file_name = os.path.splitext(file)[0]\n",
    "                    if file_name.startswith('side1') and '_yolo' not in file_name:\n",
    "                        if file_name not in existing_files:\n",
    "                            detections.append((file_name, confidence))\n",
    "    except ValueError as e:\n",
    "        print(f'ValueError: {str(e)} occurred while processing file {file} \\n')\n",
    "\n",
    "# Sort the detections list in descending order of confidence scores\n",
    "detections = sorted(detections, key=lambda x: x[1], reverse=True)\n",
    "\n",
    "# Append the sorted results to the output file, if it exists\n",
    "with open(output_file, 'a' if os.path.exists(output_file) else 'w') as f:\n",
    "    for detection in detections:\n",
    "        f.write(f'{detection[0]}\\n')\n",
    "\n",
    "print(f'Sorted results saved to {output_file}')"
   ]
  },
  {
   "cell_type": "markdown",
   "id": "c3a57fc1",
   "metadata": {},
   "source": [
    "## Using confidence score"
   ]
  },
  {
   "cell_type": "code",
   "execution_count": 2,
   "id": "ef73fefc",
   "metadata": {},
   "outputs": [
    {
     "name": "stdout",
     "output_type": "stream",
     "text": [
      "Sorted results saved to dw_sorted_result_2.txt\n"
     ]
    }
   ],
   "source": [
    "#Using both class id and confidence score\n",
    "\n",
    "import os\n",
    "\n",
    "# Path to folder containing the result files\n",
    "result_folder =  r'R:\\seatbelt\\ms_daily_testdata\\detect\\ms_230601\\labels'\n",
    "\n",
    "# Output file to save the sorted results\n",
    "output_file = r'R:\\seatbelt\\ms_daily_testdata\\detect\\ms_230601\\seat1_0.8.txt'\n",
    "\n",
    "# Loop over all files in the folder with .txt extension\n",
    "result_files = [f for f in os.listdir(result_folder) if f.endswith('.txt')]\n",
    "\n",
    "# Create an empty list to store the file names and detection scores for class_id 1\n",
    "detections_class1 = []\n",
    "\n",
    "# Loop over each file and extract the detection scores for class 1\n",
    "for file in result_files:\n",
    "    with open(os.path.join(result_folder, file), 'r') as f:\n",
    "        lines = f.readlines()\n",
    "        for line in lines:\n",
    "            # Split the line into class and confidence score\n",
    "            class_id, *scores = line.strip().split()\n",
    "            class_id = int(class_id)\n",
    "            confidence = float(scores[-1])\n",
    "            # Check if the class is 1 and the confidence is >= 0.9\n",
    "            if class_id == 1 and confidence >= 0.9:\n",
    "                detections_class1.append(os.path.splitext(file)[0] + '.jpg')\n",
    "\n",
    "# Create an empty list to store the file names and detection scores for classes between 2 and 9\n",
    "detections_class2_9 = []\n",
    "\n",
    "\n",
    "# Loop over each file and extract the detection scores for classes between 2 and 9\n",
    "for file in detections_class1:\n",
    "    txt_file = os.path.splitext(file)[0] + '.txt'\n",
    "    with open(os.path.join(result_folder, txt_file), 'r') as f:\n",
    "        lines = f.readlines()\n",
    "        for line in lines:\n",
    "            # Split the line into class and confidence score\n",
    "            class_id, *scores = line.strip().split()\n",
    "            class_id = int(class_id)\n",
    "            confidence = float(scores[-1])\n",
    "            if class_id in range(2,9):\n",
    "                detections_class2_9.append((file, confidence))\n",
    "                \n",
    "\n",
    "# Sort the detections list in descending order of confidence scores\n",
    "detections_class2_9 = sorted(detections_class2_9, key=lambda x: x[1], reverse=True)\n",
    "\n",
    "# Save the sorted results to a text file:\n",
    "with open(output_file, 'w') as f:\n",
    "    for detection in detections_class2_9:\n",
    "        f.write(f'{detection[0]}\\n')\n",
    "\n",
    "print(f'Sorted results saved to {output_file}')"
   ]
  },
  {
   "cell_type": "code",
   "execution_count": 4,
   "id": "0968382d",
   "metadata": {},
   "outputs": [
    {
     "name": "stdout",
     "output_type": "stream",
     "text": [
      "The following files were skipped because they were not found in the image folder:\n",
      "right1_230223_161526_2.jpg\n",
      "right1_230223_172433_2.jpg\n",
      "right1_230223_141459_2.jpg\n",
      "right1_230223_164154_2.jpg\n",
      "left1_230223_164834_3.jpg\n",
      "right1_230223_161423_3.jpg\n",
      "right1_230223_114642_3.jpg\n",
      "left1_230223_164834_2.jpg\n",
      "right1_230223_163448_3.jpg\n",
      "left1_230223_143801_1.jpg\n",
      "right1_230223_164834_3.jpg\n",
      "right1_230223_160752_2.jpg\n",
      "left1_230223_141459_2.jpg\n",
      "right1_230223_164834_2.jpg\n",
      "left1_230223_172109_2.jpg\n",
      "right1_230223_161526_3.jpg\n",
      "left1_230223_141459_1.jpg\n",
      "right1_230223_165827_3.jpg\n",
      "left1_230223_172716_2.jpg\n",
      "right1_230223_154817_2.jpg\n",
      "right1_230223_082258_2.jpg\n",
      "left1_230223_172109_1.jpg\n",
      "right1_230223_154128_2.jpg\n",
      "left1_230223_141459_3.jpg\n",
      "right1_230223_154821_2.jpg\n",
      "right1_230223_180436_2.jpg\n",
      "left1_230223_144300_2.jpg\n",
      "left1_230223_113812_3.jpg\n",
      "right1_230223_124442_3.jpg\n",
      "right1_230223_172109_2.jpg\n",
      "right1_230223_165827_4.jpg\n",
      "left1_230223_141800_3.jpg\n",
      "right1_230223_155618_3.jpg\n",
      "left1_230223_163654_1.jpg\n",
      "left1_230223_165559_0.jpg\n",
      "left1_230223_171835_2.jpg\n",
      "right1_230223_175028_2.jpg\n"
     ]
    }
   ],
   "source": [
    "import os\n",
    "\n",
    "# Path to the folder containing the images\n",
    "image_folder = \"path/to/image_folder\"\n",
    "\n",
    "# Path to the text file with the image list\n",
    "image_list_file = \"path/to/image_list_text_file\"\n",
    "\n",
    "# Path to output folder where you move images\n",
    "output_folder = \"path/to/output_folder\"\n",
    "\n",
    "# Read the image list file\n",
    "with open(image_list_file, \"r\") as f:\n",
    "    image_list = [line.strip() for line in f]\n",
    "\n",
    "# Extract the images from the folder\n",
    "skipped_files = []\n",
    "for image_name in image_list:\n",
    "    image_path = os.path.join(image_folder, image_name)\n",
    "    output_path = os.path.join(output_folder, image_name)\n",
    "    if os.path.exists(image_path):\n",
    "        os.rename(image_path, output_path)\n",
    "    else:\n",
    "        skipped_files.append(image_name)\n",
    "\n",
    "if skipped_files:\n",
    "    print(\"The following files were skipped because they were not found in the image folder:\")\n",
    "    print(\"\\n\".join(skipped_files))"
   ]
  },
  {
   "cell_type": "markdown",
   "id": "2c9baf9d",
   "metadata": {},
   "source": [
    "## Not using file extension"
   ]
  },
  {
   "cell_type": "code",
   "execution_count": 26,
   "id": "cbf0c811",
   "metadata": {},
   "outputs": [],
   "source": [
    "#Only care about the file name not the file extension\n",
    "import os\n",
    "import shutil\n",
    "\n",
    "result_folder = \"H:/01.수집데이터/01._마성터널_데이터/2023-06/230609\"\n",
    "\n",
    "# Path to the text file with the image list\n",
    "image_list_file = \"H:/02.가공데이터/02._AIMMO/to_aimmo/3.3차(2302~)/2306/230609_1\" + \"/list.txt\"\n",
    "# image_list_file = r\"H:/01.수집데이터/01._마성터널_데이터/2023-06/230609\"\n",
    "\n",
    "# Path to output folder where you copy images\n",
    "output_folder = \"H:/02.가공데이터/02._AIMMO/to_aimmo/3.3차(2302~)/2306/230609_1\"\n",
    "\n",
    "os.makedirs(output_folder,  exist_ok=True)\n",
    "\n",
    "# Create 'labels_blank' subfolder, if not exists\n",
    "os.makedirs(output_folder, exist_ok=True)\n",
    "\n",
    "with open(image_list_file, 'r') as f:\n",
    "    exclude_list = set(f.read().splitlines())\n",
    "\n",
    "for root, dirs, files in os.walk(result_folder):\n",
    "    for file in files:\n",
    "        filename = os.path.splitext(file)[0] # get filename without extension\n",
    "        if filename in exclude_list:\n",
    "            image_path = os.path.join(root, file)\n",
    "            output_path = os.path.join(output_folder, file)\n",
    "            print('Moving file:', image_path, 'to', output_path)\n",
    "            shutil.copy(image_path, output_path)"
   ]
  },
  {
   "cell_type": "markdown",
   "id": "d3af788b",
   "metadata": {},
   "source": [
    "## Using file extension"
   ]
  },
  {
   "cell_type": "code",
   "execution_count": 24,
   "id": "c698327a",
   "metadata": {},
   "outputs": [
    {
     "name": "stdout",
     "output_type": "stream",
     "text": [
      "The following files were skipped because they were not found in the image folder:\n",
      "list.txt\n"
     ]
    }
   ],
   "source": [
    "#care about file extension\n",
    "import os\n",
    "import shutil\n",
    "\n",
    "# Path to the folder containing the images\n",
    "image_folder = \"H:/01.수집데이터/01._마성터널_데이터/2023-06/230609\"\n",
    "\n",
    "# Path to the text file with the image list\n",
    "image_list_file = \"H:/02.가공데이터/02._AIMMO/to_aimmo/3.3차(2302~)/2306/230609_1\" + \"/list.txt\"\n",
    "\n",
    "# Path to output folder where you copy images\n",
    "output_folder = \"H:/02.가공데이터/02._AIMMO/to_aimmo/3.3차(2302~)/2306/230609_1\"\n",
    "\n",
    "# Read the image list file\n",
    "with open(image_list_file, \"r\") as f:\n",
    "    image_list = [line.strip() for line in f]\n",
    "\n",
    "# Extract the images from the folder\n",
    "skipped_files = []\n",
    "for image_name in image_list:\n",
    "    image_path = os.path.join(image_folder, image_name)\n",
    "    output_path = os.path.join(output_folder, image_name)\n",
    "    if os.path.exists(image_path):\n",
    "        shutil.move(image_path, output_path)\n",
    "    else:\n",
    "        skipped_files.append(image_name)\n",
    "\n",
    "if skipped_files:\n",
    "    print(\"The following files were skipped because they were not found in the image folder:\")\n",
    "    print(\"\\n\".join(skipped_files))\n"
   ]
  },
  {
   "cell_type": "code",
   "execution_count": null,
   "id": "e42060c9",
   "metadata": {},
   "outputs": [],
   "source": []
  }
 ],
 "metadata": {
  "kernelspec": {
   "display_name": "Python 3 (ipykernel)",
   "language": "python",
   "name": "python3"
  },
  "language_info": {
   "codemirror_mode": {
    "name": "ipython",
    "version": 3
   },
   "file_extension": ".py",
   "mimetype": "text/x-python",
   "name": "python",
   "nbconvert_exporter": "python",
   "pygments_lexer": "ipython3",
   "version": "3.11.3"
  }
 },
 "nbformat": 4,
 "nbformat_minor": 5
}
