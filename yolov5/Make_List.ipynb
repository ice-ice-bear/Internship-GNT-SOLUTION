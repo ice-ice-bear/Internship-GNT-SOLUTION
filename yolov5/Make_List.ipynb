{
 "cells": [
  {
   "cell_type": "code",
   "execution_count": 1,
   "id": "36a329f3",
   "metadata": {},
   "outputs": [
    {
     "name": "stdout",
     "output_type": "stream",
     "text": [
      "C:\\Users\\GnTRnD\\Desktop\\temp_file\\yolo_carnival\\\n"
     ]
    }
   ],
   "source": [
    "#-*- coding:utf-8 -*-\n",
    "import os\n",
    "import sys\n",
    "import numpy as np\n",
    "import glob\n",
    "\n",
    "def create_txt(name, fileNames):\n",
    "    with open(name+'.txt',\"w\", encoding = 'utf-8') as fileList:\n",
    "        for i, fileName in enumerate(fileNames):\n",
    "            fileList.write(fileName+\"\\n\")\n",
    "\n",
    "def cross_validation_list(DIR=\"\",name='masung', K=5, VAL=False):\n",
    "    fileNames = glob.glob(DIR+'\\\\**\\\\*.jpg',recursive=True)\n",
    "    np.random.shuffle(fileNames)\n",
    "    N = len(fileNames)\n",
    "    # select 1/k of the files randomly \n",
    "    n = int(N/K)\n",
    "    name=str(name)\n",
    "    DIR = os.path.dirname(DIR) + '\\\\'\n",
    "    print(DIR)\n",
    "    create_txt(DIR+name,fileNames)\n",
    "    for k in range(K):\n",
    "        test = fileNames[k*n:(k+1)*n]\n",
    "        train = fileNames[:k*n] + fileNames[(k+1)*n:]\n",
    "        create_txt(DIR+name+'_'+str(k+1)+'_train', train)\n",
    "\n",
    "        if VAL:\n",
    "            val = test[:int(n/2)]\n",
    "            test = test[int(n/2):]\n",
    "            create_txt(DIR+name+'_'+str(k+1)+'_val', val)\n",
    "            create_txt(DIR+name+'_'+str(k+1)+'_test', test)\n",
    "        else:\n",
    "            create_txt(DIR+name+'_'+str(k+1)+'_test', test)\n",
    "\n",
    "def make_list(DIR=\"\",name='data'):\n",
    "    fileNames = glob.glob(DIR+'\\\\**\\\\*.jpg',recursive=True )\n",
    "    fileNames = fileNames + glob.glob(DIR+'\\\\**\\\\*.png',recursive=True )\n",
    "    # np.random.shuffle(fileNames)\n",
    "    DIR_P = os.path.dirname(DIR) + '\\\\'\n",
    "    print(DIR_P)\n",
    "    create_txt(DIR_P+name,fileNames)\n",
    "\n",
    "def main():\n",
    "    DIR = r\"C:\\Users\\GnTRnD\\Desktop\\temp_file\\yolo_carnival\\all\"\n",
    "    NAME = 'sort_cars'\n",
    "    cross_validation_list(DIR, name=NAME, VAL = True)\n",
    "    # make_list(DIR, name = NAME)\n",
    "\n",
    "if __name__ == \"__main__\":\n",
    "    # execute only if run as a script\n",
    "    main()"
   ]
  },
  {
   "cell_type": "code",
   "execution_count": null,
   "id": "adbe9111",
   "metadata": {},
   "outputs": [],
   "source": []
  }
 ],
 "metadata": {
  "kernelspec": {
   "display_name": "Python 3 (ipykernel)",
   "language": "python",
   "name": "python3"
  },
  "language_info": {
   "codemirror_mode": {
    "name": "ipython",
    "version": 3
   },
   "file_extension": ".py",
   "mimetype": "text/x-python",
   "name": "python",
   "nbconvert_exporter": "python",
   "pygments_lexer": "ipython3",
   "version": "3.9.13"
  }
 },
 "nbformat": 4,
 "nbformat_minor": 5
}
