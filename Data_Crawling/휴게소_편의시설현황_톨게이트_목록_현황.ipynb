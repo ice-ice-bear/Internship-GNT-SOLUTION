{
 "cells": [
  {
   "cell_type": "markdown",
   "id": "8383b6af",
   "metadata": {},
   "source": [
    "## 자료출처: \n",
    "* 노선별, 방향별 휴게소 편의시설 현황:http://data.ex.co.kr/openapi/basicinfo/openApiInfoM?apiId=0316\n",
    "* 톨게이트 목록현황: http://data.ex.co.kr/openapi/basicinfo/openApiInfoM?apiId=0100"
   ]
  },
  {
   "cell_type": "code",
   "execution_count": 1,
   "id": "0475ae5d",
   "metadata": {},
   "outputs": [],
   "source": [
    "import pandas as pd\n",
    "import numpy as np"
   ]
  },
  {
   "cell_type": "code",
   "execution_count": null,
   "id": "181c7454",
   "metadata": {},
   "outputs": [],
   "source": []
  }
 ],
 "metadata": {
  "kernelspec": {
   "display_name": "Python 3 (ipykernel)",
   "language": "python",
   "name": "python3"
  },
  "language_info": {
   "codemirror_mode": {
    "name": "ipython",
    "version": 3
   },
   "file_extension": ".py",
   "mimetype": "text/x-python",
   "name": "python",
   "nbconvert_exporter": "python",
   "pygments_lexer": "ipython3",
   "version": "3.9.13"
  }
 },
 "nbformat": 4,
 "nbformat_minor": 5
}
