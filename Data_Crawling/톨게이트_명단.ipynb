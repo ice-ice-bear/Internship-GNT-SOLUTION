{
 "cells": [
  {
   "cell_type": "code",
   "execution_count": 12,
   "id": "1f866795",
   "metadata": {},
   "outputs": [
    {
     "data": {
      "text/html": [
       "<div>\n",
       "<style scoped>\n",
       "    .dataframe tbody tr th:only-of-type {\n",
       "        vertical-align: middle;\n",
       "    }\n",
       "\n",
       "    .dataframe tbody tr th {\n",
       "        vertical-align: top;\n",
       "    }\n",
       "\n",
       "    .dataframe thead th {\n",
       "        text-align: right;\n",
       "    }\n",
       "</style>\n",
       "<table border=\"1\" class=\"dataframe\">\n",
       "  <thead>\n",
       "    <tr style=\"text-align: right;\">\n",
       "      <th></th>\n",
       "      <th>exDivCode</th>\n",
       "      <th>exDivName</th>\n",
       "      <th>openClName</th>\n",
       "      <th>openClType</th>\n",
       "      <th>unitCode</th>\n",
       "      <th>unitName</th>\n",
       "    </tr>\n",
       "  </thead>\n",
       "  <tbody>\n",
       "    <tr>\n",
       "      <th>0</th>\n",
       "      <td>00</td>\n",
       "      <td>도공</td>\n",
       "      <td>폐쇄</td>\n",
       "      <td>0</td>\n",
       "      <td>741</td>\n",
       "      <td>평택고덕</td>\n",
       "    </tr>\n",
       "    <tr>\n",
       "      <th>1</th>\n",
       "      <td>00</td>\n",
       "      <td>도공</td>\n",
       "      <td>폐쇄</td>\n",
       "      <td>0</td>\n",
       "      <td>742</td>\n",
       "      <td>남사진위</td>\n",
       "    </tr>\n",
       "    <tr>\n",
       "      <th>2</th>\n",
       "      <td>00</td>\n",
       "      <td>도공</td>\n",
       "      <td>폐쇄</td>\n",
       "      <td>0</td>\n",
       "      <td>746</td>\n",
       "      <td>기장일광입구</td>\n",
       "    </tr>\n",
       "    <tr>\n",
       "      <th>3</th>\n",
       "      <td>00</td>\n",
       "      <td>도공</td>\n",
       "      <td>폐쇄</td>\n",
       "      <td>0</td>\n",
       "      <td>747</td>\n",
       "      <td>범서</td>\n",
       "    </tr>\n",
       "    <tr>\n",
       "      <th>4</th>\n",
       "      <td>00</td>\n",
       "      <td>도공</td>\n",
       "      <td>폐쇄</td>\n",
       "      <td>0</td>\n",
       "      <td>748</td>\n",
       "      <td>동청송영양</td>\n",
       "    </tr>\n",
       "  </tbody>\n",
       "</table>\n",
       "</div>"
      ],
      "text/plain": [
       "  exDivCode exDivName openClName openClType unitCode unitName\n",
       "0        00        도공         폐쇄          0      741     평택고덕\n",
       "1        00        도공         폐쇄          0      742     남사진위\n",
       "2        00        도공         폐쇄          0      746   기장일광입구\n",
       "3        00        도공         폐쇄          0      747       범서\n",
       "4        00        도공         폐쇄          0      748    동청송영양"
      ]
     },
     "execution_count": 12,
     "metadata": {},
     "output_type": "execute_result"
    }
   ],
   "source": [
    "import requests\n",
    "from bs4 import BeautifulSoup\n",
    "import pandas as pd\n",
    "import lxml\n",
    "\n",
    "URL = \"http://data.ex.co.kr/openapi/basicinfo/unitList?key=6958898588&type=xml&numOfRows=99&pageNo=5\"\n",
    "\n",
    "# API로 데이터 불러오기\n",
    "rq = requests.get(URL)\n",
    "soup = BeautifulSoup(rq.text, \"xml\")\n",
    "    \n",
    "gate_List = []\n",
    "\n",
    "for item in soup.find_all(\"unitLists\"):\n",
    "    exDivCode = item.find(\"exDivCode\").text\n",
    "    exDivName = item.find(\"exDivName\").text\n",
    "    openClName = item.find(\"openClName\").text\n",
    "    openClType = item.find(\"openClType\").text\n",
    "    unitCode = item.find(\"unitCode\").text\n",
    "    unitName = item.find(\"unitName\").text\n",
    "    gate_List.append([exDivCode, exDivName, openClName, openClType, unitCode, unitName])\n",
    "        \n",
    "toll_gate_01 = pd.DataFrame(gate_List, columns= [\"exDivCode\", \"exDivName\", \"openClName\", \"openClType\", \"unitCode\", \"unitName\"])\n",
    "\n",
    "toll_gate_01.head()"
   ]
  },
  {
   "cell_type": "code",
   "execution_count": 13,
   "id": "fa46b594",
   "metadata": {},
   "outputs": [],
   "source": [
    "toll_gate_01.to_csv(\"dataset/toll_gate_05.csv\", index = False)"
   ]
  },
  {
   "cell_type": "code",
   "execution_count": 19,
   "id": "a5e4deef",
   "metadata": {},
   "outputs": [],
   "source": [
    "toll_gate_01 = pd.read_csv(\"dataset/toll_gate_01.csv\", header = 0)\n",
    "toll_gate_02 = pd.read_csv(\"dataset/toll_gate_02.csv\", header = 0)\n",
    "toll_gate_03 = pd.read_csv(\"dataset/toll_gate_03.csv\", header = 0)\n",
    "toll_gate_04 = pd.read_csv(\"dataset/toll_gate_04.csv\", header = 0)\n",
    "toll_gate_05 = pd.read_csv(\"dataset/toll_gate_05.csv\", header = 0)"
   ]
  },
  {
   "cell_type": "code",
   "execution_count": 20,
   "id": "b06cfa4e",
   "metadata": {},
   "outputs": [],
   "source": [
    "toll_gate = pd.concat([toll_gate_01, toll_gate_02, toll_gate_03, toll_gate_04, toll_gate_05])"
   ]
  },
  {
   "cell_type": "code",
   "execution_count": 22,
   "id": "7c379d63",
   "metadata": {},
   "outputs": [
    {
     "name": "stdout",
     "output_type": "stream",
     "text": [
      "<class 'pandas.core.frame.DataFrame'>\n",
      "Int64Index: 437 entries, 0 to 40\n",
      "Data columns (total 6 columns):\n",
      " #   Column      Non-Null Count  Dtype \n",
      "---  ------      --------------  ----- \n",
      " 0   exDivCode   437 non-null    int64 \n",
      " 1   exDivName   437 non-null    object\n",
      " 2   openClName  437 non-null    object\n",
      " 3   openClType  437 non-null    int64 \n",
      " 4   unitCode    437 non-null    int64 \n",
      " 5   unitName    437 non-null    object\n",
      "dtypes: int64(3), object(3)\n",
      "memory usage: 23.9+ KB\n"
     ]
    }
   ],
   "source": [
    "toll_gate.info()"
   ]
  },
  {
   "cell_type": "code",
   "execution_count": 23,
   "id": "189603f0",
   "metadata": {},
   "outputs": [
    {
     "data": {
      "text/html": [
       "<div>\n",
       "<style scoped>\n",
       "    .dataframe tbody tr th:only-of-type {\n",
       "        vertical-align: middle;\n",
       "    }\n",
       "\n",
       "    .dataframe tbody tr th {\n",
       "        vertical-align: top;\n",
       "    }\n",
       "\n",
       "    .dataframe thead th {\n",
       "        text-align: right;\n",
       "    }\n",
       "</style>\n",
       "<table border=\"1\" class=\"dataframe\">\n",
       "  <thead>\n",
       "    <tr style=\"text-align: right;\">\n",
       "      <th></th>\n",
       "      <th>exDivCode</th>\n",
       "      <th>exDivName</th>\n",
       "      <th>openClName</th>\n",
       "      <th>openClType</th>\n",
       "      <th>unitCode</th>\n",
       "      <th>unitName</th>\n",
       "    </tr>\n",
       "  </thead>\n",
       "  <tbody>\n",
       "  </tbody>\n",
       "</table>\n",
       "</div>"
      ],
      "text/plain": [
       "Empty DataFrame\n",
       "Columns: [exDivCode, exDivName, openClName, openClType, unitCode, unitName]\n",
       "Index: []"
      ]
     },
     "execution_count": 23,
     "metadata": {},
     "output_type": "execute_result"
    }
   ],
   "source": [
    "toll_gate[toll_gate.duplicated()] #중복값없음"
   ]
  },
  {
   "cell_type": "code",
   "execution_count": 26,
   "id": "42017a52",
   "metadata": {},
   "outputs": [],
   "source": [
    "toll_gate.to_csv(\"results/gate_LIst.csv\", index = False)"
   ]
  }
 ],
 "metadata": {
  "kernelspec": {
   "display_name": "Python 3 (ipykernel)",
   "language": "python",
   "name": "python3"
  },
  "language_info": {
   "codemirror_mode": {
    "name": "ipython",
    "version": 3
   },
   "file_extension": ".py",
   "mimetype": "text/x-python",
   "name": "python",
   "nbconvert_exporter": "python",
   "pygments_lexer": "ipython3",
   "version": "3.9.13"
  }
 },
 "nbformat": 4,
 "nbformat_minor": 5
}
