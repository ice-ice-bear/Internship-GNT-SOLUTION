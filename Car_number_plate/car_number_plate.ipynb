{
 "cells": [
  {
   "cell_type": "code",
   "execution_count": 1,
   "metadata": {},
   "outputs": [
    {
     "name": "stdout",
     "output_type": "stream",
     "text": [
      "2023721\n"
     ]
    }
   ],
   "source": [
    "import datetime\n",
    "\n",
    "today = datetime.date.today()\n",
    "\n",
    "year = today.year\n",
    "month = today.month\n",
    "date = today.day\n",
    "\n",
    "data = str(year) + str(month) + str(date)\n",
    "\n",
    "print(data)\n"
   ]
  },
  {
   "cell_type": "code",
   "execution_count": 3,
   "metadata": {},
   "outputs": [
    {
     "name": "stdout",
     "output_type": "stream",
     "text": [
      "230721\n"
     ]
    }
   ],
   "source": [
    "import datetime\n",
    "\n",
    "today = datetime.date.today()\n",
    "\n",
    "year = today.year\n",
    "month = today.month\n",
    "date = today.day\n",
    "\n",
    "# Check if the month is less than 10\n",
    "if month < 10:\n",
    "    # Pad the month with a leading zero\n",
    "    month = \"0\" + str(month)\n",
    "\n",
    "# Check if the date is less than 10\n",
    "if date < 10:\n",
    "    # Pad the date with a leading zero\n",
    "    date = \"0\" + str(date)\n",
    "\n",
    "data = str(year)[2:4] + str(month) + str(date)\n",
    "\n",
    "print(data)\n"
   ]
  },
  {
   "cell_type": "code",
   "execution_count": null,
   "metadata": {},
   "outputs": [],
   "source": []
  }
 ],
 "metadata": {
  "kernelspec": {
   "display_name": "base",
   "language": "python",
   "name": "python3"
  },
  "language_info": {
   "codemirror_mode": {
    "name": "ipython",
    "version": 3
   },
   "file_extension": ".py",
   "mimetype": "text/x-python",
   "name": "python",
   "nbconvert_exporter": "python",
   "pygments_lexer": "ipython3",
   "version": "3.11.3"
  },
  "orig_nbformat": 4
 },
 "nbformat": 4,
 "nbformat_minor": 2
}
