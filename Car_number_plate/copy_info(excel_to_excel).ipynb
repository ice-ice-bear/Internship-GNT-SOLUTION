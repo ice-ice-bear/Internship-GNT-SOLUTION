{
 "cells": [
  {
   "cell_type": "code",
   "execution_count": 2,
   "metadata": {},
   "outputs": [],
   "source": [
    "import pandas as pd\n",
    "\n",
    "# Read the first Excel file\n",
    "df1 = pd.read_excel('dp_seated.xlsx', sheet_name= 'dp_230501')\n",
    "\n",
    "# Read the second Excel file\n",
    "df2 = pd.read_excel('seatbelt.xlsx', sheet_name = 'dp_230501')\n",
    "\n",
    "# Create a new column in df2 to store the matching car models\n",
    "df2['car_models'] = ''\n",
    "\n",
    "# Iterate over each row in df2\n",
    "for index, row in df2.iterrows():\n",
    "    filename = row['filename']\n",
    "    \n",
    "    # Find the corresponding car model from df1\n",
    "    car_model = df1.loc[df1['filename'] == filename, 'car_models'].values\n",
    "    \n",
    "    # Check if a matching car model is found\n",
    "    if len(car_model) > 0:\n",
    "        df2.at[index, 'car_models'] = car_model[0]\n",
    "\n",
    "# Save the updated df2 to a new Excel file\n",
    "df2.to_excel('output.xlsx', index=False)\n"
   ]
  },
  {
   "cell_type": "code",
   "execution_count": 21,
   "metadata": {},
   "outputs": [],
   "source": [
    "import pandas as pd\n",
    "\n",
    "name = 'dp_230531'\n",
    "\n",
    "# Read the excel files\n",
    "# Read the first Excel file\n",
    "df1 = pd.read_excel('dp_seated.xlsx', sheet_name= name)\n",
    "\n",
    "# Read the second Excel file\n",
    "df2 = pd.read_excel('seatbelt.xlsx', sheet_name = name)\n",
    "\n",
    "# Merge the dataframes based on the 'filename' column\n",
    "merged_df = pd.merge(df2, df1[['filename', 'car_models']], on='filename', how='left')\n",
    "\n",
    "# Copy the values from 'car_models' column in df1 to df2\n",
    "merged_df['car_models_y'] = merged_df['car_models_y'].fillna(merged_df['car_models_x'])\n",
    "\n",
    "# Drop unnecessary columns\n",
    "merged_df = merged_df.drop(['car_models_x'], axis=1)\n",
    "\n",
    "# Rename the column\n",
    "merged_df = merged_df.rename(columns={'car_models_y': 'car_models'})\n",
    "\n",
    "# Save the merged dataframe to a new Excel file\n",
    "merged_df.to_excel(excel_writer= 'merged_excel.xlsx', index=False, sheet_name= name)\n"
   ]
  },
  {
   "cell_type": "code",
   "execution_count": null,
   "metadata": {},
   "outputs": [],
   "source": []
  }
 ],
 "metadata": {
  "kernelspec": {
   "display_name": "base",
   "language": "python",
   "name": "python3"
  },
  "language_info": {
   "codemirror_mode": {
    "name": "ipython",
    "version": 3
   },
   "file_extension": ".py",
   "mimetype": "text/x-python",
   "name": "python",
   "nbconvert_exporter": "python",
   "pygments_lexer": "ipython3",
   "version": "3.9.13"
  },
  "orig_nbformat": 4
 },
 "nbformat": 4,
 "nbformat_minor": 2
}
