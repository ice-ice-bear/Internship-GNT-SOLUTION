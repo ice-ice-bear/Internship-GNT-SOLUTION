{
 "cells": [
  {
   "cell_type": "code",
   "execution_count": 15,
   "id": "f7f35e50",
   "metadata": {},
   "outputs": [],
   "source": [
    "#remove the confidence score\n",
    "\n",
    "import os\n",
    "\n",
    "folder_path = 'C:/Users/GnTRnD/Desktop/label_6_7'\n",
    "\n",
    "for filename in os.listdir(folder_path):\n",
    "    with open(os.path.join(folder_path, filename), 'r') as file:\n",
    "        lines = file.readlines()\n",
    "    \n",
    "    with open(os.path.join(folder_path, filename), 'w') as file:\n",
    "        for line in lines:\n",
    "            words = line.strip().split()\n",
    "            new_line = ' '.join(words[:-1]) + '\\n'\n",
    "            file.write(new_line)"
   ]
  },
  {
   "cell_type": "code",
   "execution_count": 2,
   "id": "8ac6b1f0",
   "metadata": {},
   "outputs": [],
   "source": [
    "#read and write only for txt file\n",
    "import os\n",
    "\n",
    "folder_path = 'C:/Users/GnTRnD/Desktop/temp_file/carnival/jj_230308_carnival'\n",
    "\n",
    "# loop through each file in the folder\n",
    "for filename in os.listdir(folder_path):\n",
    "    # check if the file has a '.txt' extension\n",
    "    if filename.endswith('.txt'):\n",
    "        # open the file for reading\n",
    "        with open(os.path.join(folder_path, filename), 'r') as file:\n",
    "            # read all lines in the file\n",
    "            lines = file.readlines()\n",
    "        \n",
    "        # open the same file for writing (this will overwrite the original file)\n",
    "        with open(os.path.join(folder_path, filename), 'w') as file:\n",
    "            # loop through each line in the file\n",
    "            for line in lines:\n",
    "                # split the line into words\n",
    "                words = line.strip().split()\n",
    "                # join all words except the last one (the confidence score)\n",
    "                new_line = ' '.join(words[:-1]) + '\\n'\n",
    "                # write the new line to the file\n",
    "                file.write(new_line)\n"
   ]
  },
  {
   "cell_type": "code",
   "execution_count": null,
   "id": "76cca506",
   "metadata": {},
   "outputs": [],
   "source": [
    "# remove the confidence score\n",
    "\n",
    "import os\n",
    "import shutil\n",
    "import pandas as pd\n",
    "\n",
    "file_path = r\"D:\\duplictaed_class_example\\labels_duplicated_class\\labels\" # 검사 후 경로\n",
    "\n",
    "file_list = os.listdir(file_path)\n",
    "\n",
    "for fl in file_list:\n",
    "    df = pd.read_table(file_path+'\\\\'+fl,sep = ' ', header = None, names = ['class','x','y','w','h','conf' ])\n",
    "    df = df.drop(['conf'],axis = 1)\n",
    "    df.to_csv(file_path+'\\\\'+fl, header = None, sep = ' ', index = False)"
   ]
  },
  {
   "cell_type": "code",
   "execution_count": 1,
   "id": "15823397",
   "metadata": {},
   "outputs": [],
   "source": [
    "#saving both original and line striped file\n",
    "\n",
    "import os\n",
    "\n",
    "input_folder = 'C:/Users/GnTRnD/Desktop/LSR/yolov5_lsr/runs/detect/dw_carnival_and_suv_230316_labeling/labels'\n",
    "output_folder = '//schoolnas-work/schoolnas-work/seatbelt/carnival/dw_230316/suv_and_carnival'\n",
    "\n",
    "# Create the output folder if it doesn't exist\n",
    "if not os.path.exists(output_folder):\n",
    "    os.makedirs(output_folder)\n",
    "\n",
    "# Loop through all the files in the input folder\n",
    "for filename in os.listdir(input_folder):\n",
    "    input_filepath = os.path.join(input_folder, filename)\n",
    "    output_filepath = os.path.join(output_folder, filename)\n",
    "    \n",
    "    # Open the input file and read its contents\n",
    "    with open(input_filepath, 'r') as input_file:\n",
    "        lines = input_file.readlines()\n",
    "    \n",
    "    # Remove the last word from each line\n",
    "    removed_lines = []\n",
    "    for line in lines:\n",
    "        words = line.strip().split()\n",
    "        new_line = ' '.join(words[:-1]) + '\\n'\n",
    "        removed_lines.append(new_line)\n",
    "    \n",
    "    # Write the removed text to the output file\n",
    "    with open(output_filepath, 'w') as output_file:\n",
    "        output_file.writelines(removed_lines)\n"
   ]
  }
 ],
 "metadata": {
  "kernelspec": {
   "display_name": "Python 3 (ipykernel)",
   "language": "python",
   "name": "python3"
  },
  "language_info": {
   "codemirror_mode": {
    "name": "ipython",
    "version": 3
   },
   "file_extension": ".py",
   "mimetype": "text/x-python",
   "name": "python",
   "nbconvert_exporter": "python",
   "pygments_lexer": "ipython3",
   "version": "3.9.13"
  }
 },
 "nbformat": 4,
 "nbformat_minor": 5
}
