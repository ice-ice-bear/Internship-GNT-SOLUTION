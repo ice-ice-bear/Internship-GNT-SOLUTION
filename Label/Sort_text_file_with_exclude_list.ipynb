{
 "cells": [
  {
   "cell_type": "code",
   "execution_count": 6,
   "id": "e69966e1",
   "metadata": {},
   "outputs": [],
   "source": [
    "input_file = r'\\\\schoolnas-work\\schoolnas-work\\seatbelt\\sh_jj_dwpg_kcity_aimmo_230227_checked_230313_real_final\\sh_jj_dwpg_kcity_aimmo_230227_checked_fin_230307_1_val.txt'\n",
    "exclude_file = r'C:\\Users\\GnTRnD\\Desktop\\list.txt'\n",
    "output_file = r'C:\\Users\\GnTRnD\\Desktop\\sh_jj_dwpg_kcity_aimmo_230227_checked_fin_230313_1_val.txt'\n",
    "\n",
    "with open(input_file, 'r') as f_input, open(exclude_file, 'r') as f_exclude, open(output_file, 'w') as f_output:\n",
    "    exclude_list = set(f_exclude.read().splitlines())\n",
    "    for line in f_input:\n",
    "        if not any(exclude_str in line for exclude_str in exclude_list):\n",
    "            f_output.write(line)\n"
   ]
  }
 ],
 "metadata": {
  "kernelspec": {
   "display_name": "Python 3 (ipykernel)",
   "language": "python",
   "name": "python3"
  },
  "language_info": {
   "codemirror_mode": {
    "name": "ipython",
    "version": 3
   },
   "file_extension": ".py",
   "mimetype": "text/x-python",
   "name": "python",
   "nbconvert_exporter": "python",
   "pygments_lexer": "ipython3",
   "version": "3.9.13"
  }
 },
 "nbformat": 4,
 "nbformat_minor": 5
}
