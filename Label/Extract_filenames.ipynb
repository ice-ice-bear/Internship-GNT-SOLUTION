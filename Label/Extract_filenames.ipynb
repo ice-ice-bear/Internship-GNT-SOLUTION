{
 "cells": [
  {
   "cell_type": "code",
   "execution_count": null,
   "id": "a5a49190",
   "metadata": {},
   "outputs": [],
   "source": [
    "import os\n",
    "\n",
    "folder_path = \"path/to/folder\"\n",
    "\n",
    "for file_name in os.listdir(folder_path):\n",
    "    if file_name.endswith(\".txt\"):\n",
    "        file_path = os.path.join(folder_path, file_name)\n",
    "        \n",
    "        # Read the lines from the file\n",
    "        with open(file_path, \"r\") as f:\n",
    "            lines = f.readlines()\n",
    "        \n",
    "        try:\n",
    "            # Sort the lines based on the first number in each line\n",
    "            lines = sorted(lines, key=lambda x: int(x.split()[0]))\n",
    "        except ValueError:\n",
    "            # If there's aw ValueError, print the file name and continue with the next file\n",
    "            print(f\"ValueError in file {file_name}\")\n",
    "            continue\n",
    "        \n",
    "        # Write the sorted lines back to the file\n",
    "        with open(file_path, \"w\") as f:\n",
    "            for line in lines:\n",
    "                f.write(line.strip() + \"\\n\")\n"
   ]
  },
  {
   "cell_type": "code",
   "execution_count": 1,
   "id": "642919e2",
   "metadata": {},
   "outputs": [],
   "source": [
    "import os\n",
    "\n",
    "folder_path = \"path/to/folder\"\n",
    "\n",
    "# Get a list of all files in the folder\n",
    "file_names = os.listdir(folder_path)\n",
    "\n",
    "# Save the list of file names to a text file\n",
    "with open(\"file_names.txt\", \"w\") as file:\n",
    "    for name in file_names:\n",
    "        file.write(name + \"\\n\")"
   ]
  },
  {
   "cell_type": "code",
   "execution_count": null,
   "id": "7732e53c",
   "metadata": {},
   "outputs": [],
   "source": [
    "import os\n",
    "\n",
    "folder_path = 'path/to/folder'\n",
    "output_file = folder_path + './class_file.txt'\n",
    "\n",
    "with open(output_file, 'w') as f:\n",
    "    for filename in os.listdir(folder_path):\n",
    "        if filename.endswith('.txt'):\n",
    "            try:\n",
    "                with open(os.path.join(folder_path, filename), 'r') as file:\n",
    "                    for line in file:\n",
    "                        try: \n",
    "                            values = line.split()\n",
    "                            class_number = int(values[0])\n",
    "                            x_coordinate = float(values[1])\n",
    "                            y_coordinate = float(values[2])\n",
    "                            width = float(values[3])\n",
    "                            height = float(values[4])\n",
    "                            confidence = float(values[5])\n",
    "                            file.write(class_number + confidence + '\\n')\n",
    "                            break\n",
    "                        except ValueError:\n",
    "                            print(f\"ValueError: {filename}\")\n",
    "                        \n",
    "            except PermissionError:\n",
    "                print(f\"Permission denied: {filename}\")"
   ]
  }
 ],
 "metadata": {
  "kernelspec": {
   "display_name": "Python 3 (ipykernel)",
   "language": "python",
   "name": "python3"
  },
  "language_info": {
   "codemirror_mode": {
    "name": "ipython",
    "version": 3
   },
   "file_extension": ".py",
   "mimetype": "text/x-python",
   "name": "python",
   "nbconvert_exporter": "python",
   "pygments_lexer": "ipython3",
   "version": "3.9.13"
  }
 },
 "nbformat": 4,
 "nbformat_minor": 5
}
