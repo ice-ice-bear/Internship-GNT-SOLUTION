{
 "cells": [
  {
   "cell_type": "code",
   "execution_count": 5,
   "id": "9d26f017",
   "metadata": {},
   "outputs": [
    {
     "name": "stdout",
     "output_type": "stream",
     "text": [
      "Moving file: R:/seatbelt/highway_send_data/230502_target\\dp_230502_212934_c_0.jpg to R:/seatbelt/highway_send_data/230502_target/plate_7\\dp_230502_212934_c_0.jpg\n",
      "Moving file: R:/seatbelt/highway_send_data/230502_target\\plate_7\\dp_230502_212934_c_0.jpg to R:/seatbelt/highway_send_data/230502_target/plate_7\\dp_230502_212934_c_0.jpg\n"
     ]
    },
    {
     "ename": "SameFileError",
     "evalue": "'R:/seatbelt/highway_send_data/230502_target\\\\plate_7\\\\dp_230502_212934_c_0.jpg' and 'R:/seatbelt/highway_send_data/230502_target/plate_7\\\\dp_230502_212934_c_0.jpg' are the same file",
     "output_type": "error",
     "traceback": [
      "\u001b[1;31m---------------------------------------------------------------------------\u001b[0m",
      "\u001b[1;31mSameFileError\u001b[0m                             Traceback (most recent call last)",
      "\u001b[1;32mC:\\Windows\\Temp\\ipykernel_15688\\3420659886.py\u001b[0m in \u001b[0;36m<module>\u001b[1;34m\u001b[0m\n\u001b[0;32m     19\u001b[0m             \u001b[0moutput_path\u001b[0m \u001b[1;33m=\u001b[0m \u001b[0mos\u001b[0m\u001b[1;33m.\u001b[0m\u001b[0mpath\u001b[0m\u001b[1;33m.\u001b[0m\u001b[0mjoin\u001b[0m\u001b[1;33m(\u001b[0m\u001b[0moutput_folder\u001b[0m\u001b[1;33m,\u001b[0m \u001b[0mfile\u001b[0m\u001b[1;33m)\u001b[0m\u001b[1;33m\u001b[0m\u001b[1;33m\u001b[0m\u001b[0m\n\u001b[0;32m     20\u001b[0m             \u001b[0mprint\u001b[0m\u001b[1;33m(\u001b[0m\u001b[1;34m'Moving file:'\u001b[0m\u001b[1;33m,\u001b[0m \u001b[0mimage_path\u001b[0m\u001b[1;33m,\u001b[0m \u001b[1;34m'to'\u001b[0m\u001b[1;33m,\u001b[0m \u001b[0moutput_path\u001b[0m\u001b[1;33m)\u001b[0m\u001b[1;33m\u001b[0m\u001b[1;33m\u001b[0m\u001b[0m\n\u001b[1;32m---> 21\u001b[1;33m             \u001b[0mshutil\u001b[0m\u001b[1;33m.\u001b[0m\u001b[0mcopy\u001b[0m\u001b[1;33m(\u001b[0m\u001b[0mimage_path\u001b[0m\u001b[1;33m,\u001b[0m \u001b[0moutput_path\u001b[0m\u001b[1;33m)\u001b[0m\u001b[1;33m\u001b[0m\u001b[1;33m\u001b[0m\u001b[0m\n\u001b[0m",
      "\u001b[1;32mc:\\Users\\GnTRnD\\anaconda3\\lib\\shutil.py\u001b[0m in \u001b[0;36mcopy\u001b[1;34m(src, dst, follow_symlinks)\u001b[0m\n\u001b[0;32m    425\u001b[0m     \u001b[1;32mif\u001b[0m \u001b[0mos\u001b[0m\u001b[1;33m.\u001b[0m\u001b[0mpath\u001b[0m\u001b[1;33m.\u001b[0m\u001b[0misdir\u001b[0m\u001b[1;33m(\u001b[0m\u001b[0mdst\u001b[0m\u001b[1;33m)\u001b[0m\u001b[1;33m:\u001b[0m\u001b[1;33m\u001b[0m\u001b[1;33m\u001b[0m\u001b[0m\n\u001b[0;32m    426\u001b[0m         \u001b[0mdst\u001b[0m \u001b[1;33m=\u001b[0m \u001b[0mos\u001b[0m\u001b[1;33m.\u001b[0m\u001b[0mpath\u001b[0m\u001b[1;33m.\u001b[0m\u001b[0mjoin\u001b[0m\u001b[1;33m(\u001b[0m\u001b[0mdst\u001b[0m\u001b[1;33m,\u001b[0m \u001b[0mos\u001b[0m\u001b[1;33m.\u001b[0m\u001b[0mpath\u001b[0m\u001b[1;33m.\u001b[0m\u001b[0mbasename\u001b[0m\u001b[1;33m(\u001b[0m\u001b[0msrc\u001b[0m\u001b[1;33m)\u001b[0m\u001b[1;33m)\u001b[0m\u001b[1;33m\u001b[0m\u001b[1;33m\u001b[0m\u001b[0m\n\u001b[1;32m--> 427\u001b[1;33m     \u001b[0mcopyfile\u001b[0m\u001b[1;33m(\u001b[0m\u001b[0msrc\u001b[0m\u001b[1;33m,\u001b[0m \u001b[0mdst\u001b[0m\u001b[1;33m,\u001b[0m \u001b[0mfollow_symlinks\u001b[0m\u001b[1;33m=\u001b[0m\u001b[0mfollow_symlinks\u001b[0m\u001b[1;33m)\u001b[0m\u001b[1;33m\u001b[0m\u001b[1;33m\u001b[0m\u001b[0m\n\u001b[0m\u001b[0;32m    428\u001b[0m     \u001b[0mcopymode\u001b[0m\u001b[1;33m(\u001b[0m\u001b[0msrc\u001b[0m\u001b[1;33m,\u001b[0m \u001b[0mdst\u001b[0m\u001b[1;33m,\u001b[0m \u001b[0mfollow_symlinks\u001b[0m\u001b[1;33m=\u001b[0m\u001b[0mfollow_symlinks\u001b[0m\u001b[1;33m)\u001b[0m\u001b[1;33m\u001b[0m\u001b[1;33m\u001b[0m\u001b[0m\n\u001b[0;32m    429\u001b[0m     \u001b[1;32mreturn\u001b[0m \u001b[0mdst\u001b[0m\u001b[1;33m\u001b[0m\u001b[1;33m\u001b[0m\u001b[0m\n",
      "\u001b[1;32mc:\\Users\\GnTRnD\\anaconda3\\lib\\shutil.py\u001b[0m in \u001b[0;36mcopyfile\u001b[1;34m(src, dst, follow_symlinks)\u001b[0m\n\u001b[0;32m    242\u001b[0m \u001b[1;33m\u001b[0m\u001b[0m\n\u001b[0;32m    243\u001b[0m     \u001b[1;32mif\u001b[0m \u001b[0m_samefile\u001b[0m\u001b[1;33m(\u001b[0m\u001b[0msrc\u001b[0m\u001b[1;33m,\u001b[0m \u001b[0mdst\u001b[0m\u001b[1;33m)\u001b[0m\u001b[1;33m:\u001b[0m\u001b[1;33m\u001b[0m\u001b[1;33m\u001b[0m\u001b[0m\n\u001b[1;32m--> 244\u001b[1;33m         \u001b[1;32mraise\u001b[0m \u001b[0mSameFileError\u001b[0m\u001b[1;33m(\u001b[0m\u001b[1;34m\"{!r} and {!r} are the same file\"\u001b[0m\u001b[1;33m.\u001b[0m\u001b[0mformat\u001b[0m\u001b[1;33m(\u001b[0m\u001b[0msrc\u001b[0m\u001b[1;33m,\u001b[0m \u001b[0mdst\u001b[0m\u001b[1;33m)\u001b[0m\u001b[1;33m)\u001b[0m\u001b[1;33m\u001b[0m\u001b[1;33m\u001b[0m\u001b[0m\n\u001b[0m\u001b[0;32m    245\u001b[0m \u001b[1;33m\u001b[0m\u001b[0m\n\u001b[0;32m    246\u001b[0m     \u001b[0mfile_size\u001b[0m \u001b[1;33m=\u001b[0m \u001b[1;36m0\u001b[0m\u001b[1;33m\u001b[0m\u001b[1;33m\u001b[0m\u001b[0m\n",
      "\u001b[1;31mSameFileError\u001b[0m: 'R:/seatbelt/highway_send_data/230502_target\\\\plate_7\\\\dp_230502_212934_c_0.jpg' and 'R:/seatbelt/highway_send_data/230502_target/plate_7\\\\dp_230502_212934_c_0.jpg' are the same file"
     ]
    }
   ],
   "source": [
    "#Only care about the file name not the file extension\n",
    "import os\n",
    "import shutil\n",
    "\n",
    "image_folder = r'R:/seatbelt/highway_send_data/230502_target'\n",
    "text_file = r'R:/seatbelt/highway_send_data/230502_base64/plate_7/230502_plate_7.txt'\n",
    "output_folder = r'R:/seatbelt/highway_send_data/230502_target/plate_7'\n",
    "\n",
    "os.makedirs(output_folder, exist_ok= True)\n",
    "\n",
    "with open(text_file, 'r') as f:\n",
    "    exclude_list = set(f.read().splitlines())\n",
    "\n",
    "for root, dirs, files in os.walk(image_folder):\n",
    "    for file in files:\n",
    "        filename = os.path.splitext(file)[0] # get filename without extension\n",
    "        if filename in exclude_list:\n",
    "            image_path = os.path.join(root, file)\n",
    "            output_path = os.path.join(output_folder, file)\n",
    "            print('Moving file:', image_path, 'to', output_path)\n",
    "            shutil.copy(image_path, output_path)"
   ]
  },
  {
   "cell_type": "code",
   "execution_count": 2,
   "id": "aeaff540",
   "metadata": {},
   "outputs": [],
   "source": [
    "#care both file name and file extension\n",
    "#move image\n",
    "\n",
    "import os\n",
    "import shutil\n",
    "\n",
    "image_folder = r'R:/seatbelt/highway_send_data/230502_target'\n",
    "text_file = r'R:/seatbelt/highway_send_data/230502_base64/plate_7/230502_plate_7.txt'\n",
    "output_folder = r'R:/seatbelt/highway_send_data/230502_target/plate_7'\n",
    "\n",
    "with open(text_file, 'r') as f:\n",
    "    exclude_list = set(f.read().splitlines())\n",
    "\n",
    "for root, dirs, files in os.walk(image_folder):\n",
    "    for file in files:\n",
    "        if file.endswith('.jpg') or file.endswith('.txt'):\n",
    "            if file in exclude_list:\n",
    "                image_path = os.path.join(root, file)\n",
    "                output_path = os.path.join(output_folder, file)\n",
    "                print('Moving image:', image_path, 'to', output_path)\n",
    "                shutil.move(image_path, output_path)"
   ]
  },
  {
   "cell_type": "code",
   "execution_count": 5,
   "id": "aed78a9b",
   "metadata": {},
   "outputs": [
    {
     "name": "stdout",
     "output_type": "stream",
     "text": [
      "Copying image: C:\\Users\\GnTRnD\\Desktop\\LSR\\yolov5_lsr\\runs\\detect\\seatbelt_sh_jj_dwpg_kcity_aimmo_230227_checked_fin_230314_dwpg_230315_conf55_results\\labels\\left1_230315_135247_2.txt to \\\\schoolnas-work\\schoolnas-work\\seatbelt\\dwpg_after_change_four_lights\\230315_person05_person05seatbelt\\left1_230315_135247_2.txt\n",
      "Copying image: C:\\Users\\GnTRnD\\Desktop\\LSR\\yolov5_lsr\\runs\\detect\\seatbelt_sh_jj_dwpg_kcity_aimmo_230227_checked_fin_230314_dwpg_230315_conf55_results\\labels\\left1_230315_151120_0.txt to \\\\schoolnas-work\\schoolnas-work\\seatbelt\\dwpg_after_change_four_lights\\230315_person05_person05seatbelt\\left1_230315_151120_0.txt\n",
      "Copying image: C:\\Users\\GnTRnD\\Desktop\\LSR\\yolov5_lsr\\runs\\detect\\seatbelt_sh_jj_dwpg_kcity_aimmo_230227_checked_fin_230314_dwpg_230315_conf55_results\\labels\\left1_230315_160547_0.txt to \\\\schoolnas-work\\schoolnas-work\\seatbelt\\dwpg_after_change_four_lights\\230315_person05_person05seatbelt\\left1_230315_160547_0.txt\n",
      "Copying image: C:\\Users\\GnTRnD\\Desktop\\LSR\\yolov5_lsr\\runs\\detect\\seatbelt_sh_jj_dwpg_kcity_aimmo_230227_checked_fin_230314_dwpg_230315_conf55_results\\labels\\left1_230315_160547_1.txt to \\\\schoolnas-work\\schoolnas-work\\seatbelt\\dwpg_after_change_four_lights\\230315_person05_person05seatbelt\\left1_230315_160547_1.txt\n",
      "Copying image: C:\\Users\\GnTRnD\\Desktop\\LSR\\yolov5_lsr\\runs\\detect\\seatbelt_sh_jj_dwpg_kcity_aimmo_230227_checked_fin_230314_dwpg_230315_conf55_results\\labels\\left1_230315_171621_1.txt to \\\\schoolnas-work\\schoolnas-work\\seatbelt\\dwpg_after_change_four_lights\\230315_person05_person05seatbelt\\left1_230315_171621_1.txt\n",
      "Copying image: C:\\Users\\GnTRnD\\Desktop\\LSR\\yolov5_lsr\\runs\\detect\\seatbelt_sh_jj_dwpg_kcity_aimmo_230227_checked_fin_230314_dwpg_230315_conf55_results\\labels\\left1_230315_171621_2.txt to \\\\schoolnas-work\\schoolnas-work\\seatbelt\\dwpg_after_change_four_lights\\230315_person05_person05seatbelt\\left1_230315_171621_2.txt\n",
      "Copying image: C:\\Users\\GnTRnD\\Desktop\\LSR\\yolov5_lsr\\runs\\detect\\seatbelt_sh_jj_dwpg_kcity_aimmo_230227_checked_fin_230314_dwpg_230315_conf55_results\\labels\\right1_230315_074448_0.txt to \\\\schoolnas-work\\schoolnas-work\\seatbelt\\dwpg_after_change_four_lights\\230315_person05_person05seatbelt\\right1_230315_074448_0.txt\n",
      "Copying image: C:\\Users\\GnTRnD\\Desktop\\LSR\\yolov5_lsr\\runs\\detect\\seatbelt_sh_jj_dwpg_kcity_aimmo_230227_checked_fin_230314_dwpg_230315_conf55_results\\labels\\right1_230315_142116_1.txt to \\\\schoolnas-work\\schoolnas-work\\seatbelt\\dwpg_after_change_four_lights\\230315_person05_person05seatbelt\\right1_230315_142116_1.txt\n",
      "Copying image: C:\\Users\\GnTRnD\\Desktop\\LSR\\yolov5_lsr\\runs\\detect\\seatbelt_sh_jj_dwpg_kcity_aimmo_230227_checked_fin_230314_dwpg_230315_conf55_results\\labels\\right1_230315_171621_1.txt to \\\\schoolnas-work\\schoolnas-work\\seatbelt\\dwpg_after_change_four_lights\\230315_person05_person05seatbelt\\right1_230315_171621_1.txt\n",
      "Copying image: C:\\Users\\GnTRnD\\Desktop\\LSR\\yolov5_lsr\\runs\\detect\\seatbelt_sh_jj_dwpg_kcity_aimmo_230227_checked_fin_230314_dwpg_230315_conf55_results\\labels\\right1_230315_194801_1.txt to \\\\schoolnas-work\\schoolnas-work\\seatbelt\\dwpg_after_change_four_lights\\230315_person05_person05seatbelt\\right1_230315_194801_1.txt\n",
      "Copying image: C:\\Users\\GnTRnD\\Desktop\\LSR\\yolov5_lsr\\runs\\detect\\seatbelt_sh_jj_dwpg_kcity_aimmo_230227_checked_fin_230314_dwpg_230315_conf55_results\\labels\\right1_230315_194801_2.txt to \\\\schoolnas-work\\schoolnas-work\\seatbelt\\dwpg_after_change_four_lights\\230315_person05_person05seatbelt\\right1_230315_194801_2.txt\n"
     ]
    }
   ],
   "source": [
    "#copy image\n",
    "\n",
    "import os\n",
    "import shutil\n",
    "\n",
    "image_folder = r'C:\\Users\\GnTRnD\\Desktop\\LSR\\yolov5_lsr\\runs\\detect\\seatbelt_sh_jj_dwpg_kcity_aimmo_230227_checked_fin_230314_dwpg_230315_conf55_results\\labels'\n",
    "text_file = r'C:\\Users\\GnTRnD\\Desktop\\seatbelt_label\\file_names.txt'\n",
    "output_folder = r'\\\\schoolnas-work\\schoolnas-work\\seatbelt\\dwpg_after_change_four_lights\\230315_person05_person05seatbelt'\n",
    "\n",
    "with open(text_file, 'r') as f:\n",
    "    exclude_list = set(f.read().splitlines())\n",
    "\n",
    "for root, dirs, files in os.walk(image_folder):\n",
    "    for file in files:\n",
    "        if file.endswith('.jpg') or file.endswith('.txt'):\n",
    "            if file in exclude_list:\n",
    "                image_path = os.path.join(root, file)\n",
    "                output_path = os.path.join(output_folder, file)\n",
    "                print('Copying image:', image_path, 'to', output_path)\n",
    "                shutil.copy(image_path, output_path)"
   ]
  },
  {
   "cell_type": "code",
   "execution_count": 11,
   "id": "d45014de",
   "metadata": {},
   "outputs": [
    {
     "name": "stdout",
     "output_type": "stream",
     "text": [
      "The image has been deleted: //schoolnas-work/schoolnas-work/seatbelt/seatbelt_label_03_06_added_230324_train_data/10_jj_230310_carnival\\left1_230310_080533_0.jpg\n",
      "The image has been deleted: //schoolnas-work/schoolnas-work/seatbelt/seatbelt_label_03_06_added_230324_train_data/10_jj_230310_carnival\\left1_230310_080533_0.txt\n",
      "The image has been deleted: //schoolnas-work/schoolnas-work/seatbelt/seatbelt_label_03_06_added_230324_train_data/10_jj_230310_carnival\\left1_230310_082148_0.jpg\n",
      "The image has been deleted: //schoolnas-work/schoolnas-work/seatbelt/seatbelt_label_03_06_added_230324_train_data/10_jj_230310_carnival\\left1_230310_082148_0.txt\n",
      "The image has been deleted: //schoolnas-work/schoolnas-work/seatbelt/seatbelt_label_03_06_added_230324_train_data/10_jj_230310_carnival\\left1_230310_085011_0.jpg\n",
      "The image has been deleted: //schoolnas-work/schoolnas-work/seatbelt/seatbelt_label_03_06_added_230324_train_data/10_jj_230310_carnival\\left1_230310_085011_0.txt\n",
      "The image has been deleted: //schoolnas-work/schoolnas-work/seatbelt/seatbelt_label_03_06_added_230324_train_data/10_jj_230310_carnival\\left1_230310_091424_0.jpg\n",
      "The image has been deleted: //schoolnas-work/schoolnas-work/seatbelt/seatbelt_label_03_06_added_230324_train_data/10_jj_230310_carnival\\left1_230310_091424_0.txt\n",
      "The image has been deleted: //schoolnas-work/schoolnas-work/seatbelt/seatbelt_label_03_06_added_230324_train_data/10_jj_230310_carnival\\left1_230310_140903_0.jpg\n",
      "The image has been deleted: //schoolnas-work/schoolnas-work/seatbelt/seatbelt_label_03_06_added_230324_train_data/10_jj_230310_carnival\\left1_230310_140903_0.txt\n",
      "The image has been deleted: //schoolnas-work/schoolnas-work/seatbelt/seatbelt_label_03_06_added_230324_train_data/10_jj_230310_carnival\\left1_230310_141724_0.jpg\n",
      "The image has been deleted: //schoolnas-work/schoolnas-work/seatbelt/seatbelt_label_03_06_added_230324_train_data/10_jj_230310_carnival\\left1_230310_141724_0.txt\n",
      "The image has been deleted: //schoolnas-work/schoolnas-work/seatbelt/seatbelt_label_03_06_added_230324_train_data/10_jj_230310_carnival\\left1_230310_142149_0.jpg\n",
      "The image has been deleted: //schoolnas-work/schoolnas-work/seatbelt/seatbelt_label_03_06_added_230324_train_data/10_jj_230310_carnival\\left1_230310_142149_0.txt\n",
      "The image has been deleted: //schoolnas-work/schoolnas-work/seatbelt/seatbelt_label_03_06_added_230324_train_data/10_jj_230310_carnival\\left1_230310_142721_0.jpg\n",
      "The image has been deleted: //schoolnas-work/schoolnas-work/seatbelt/seatbelt_label_03_06_added_230324_train_data/10_jj_230310_carnival\\left1_230310_142721_0.txt\n",
      "The image has been deleted: //schoolnas-work/schoolnas-work/seatbelt/seatbelt_label_03_06_added_230324_train_data/10_jj_230310_carnival\\left1_230310_143147_0.jpg\n",
      "The image has been deleted: //schoolnas-work/schoolnas-work/seatbelt/seatbelt_label_03_06_added_230324_train_data/10_jj_230310_carnival\\left1_230310_143147_0.txt\n",
      "The image has been deleted: //schoolnas-work/schoolnas-work/seatbelt/seatbelt_label_03_06_added_230324_train_data/10_jj_230310_carnival\\left1_230310_143704_0.jpg\n",
      "The image has been deleted: //schoolnas-work/schoolnas-work/seatbelt/seatbelt_label_03_06_added_230324_train_data/10_jj_230310_carnival\\left1_230310_143704_0.txt\n",
      "The image has been deleted: //schoolnas-work/schoolnas-work/seatbelt/seatbelt_label_03_06_added_230324_train_data/10_jj_230310_carnival\\left1_230310_144335_0.jpg\n",
      "The image has been deleted: //schoolnas-work/schoolnas-work/seatbelt/seatbelt_label_03_06_added_230324_train_data/10_jj_230310_carnival\\left1_230310_144335_0.txt\n",
      "The image has been deleted: //schoolnas-work/schoolnas-work/seatbelt/seatbelt_label_03_06_added_230324_train_data/10_jj_230310_carnival\\left1_230310_144928_0.jpg\n",
      "The image has been deleted: //schoolnas-work/schoolnas-work/seatbelt/seatbelt_label_03_06_added_230324_train_data/10_jj_230310_carnival\\left1_230310_144928_0.txt\n",
      "The image has been deleted: //schoolnas-work/schoolnas-work/seatbelt/seatbelt_label_03_06_added_230324_train_data/10_jj_230310_carnival\\left1_230310_145355_0.jpg\n",
      "The image has been deleted: //schoolnas-work/schoolnas-work/seatbelt/seatbelt_label_03_06_added_230324_train_data/10_jj_230310_carnival\\left1_230310_145355_0.txt\n",
      "The image has been deleted: //schoolnas-work/schoolnas-work/seatbelt/seatbelt_label_03_06_added_230324_train_data/10_jj_230310_carnival\\left1_230310_145745_0.jpg\n",
      "The image has been deleted: //schoolnas-work/schoolnas-work/seatbelt/seatbelt_label_03_06_added_230324_train_data/10_jj_230310_carnival\\left1_230310_145745_0.txt\n",
      "The image has been deleted: //schoolnas-work/schoolnas-work/seatbelt/seatbelt_label_03_06_added_230324_train_data/10_jj_230310_carnival\\left1_230310_150520_0.jpg\n",
      "The image has been deleted: //schoolnas-work/schoolnas-work/seatbelt/seatbelt_label_03_06_added_230324_train_data/10_jj_230310_carnival\\left1_230310_150520_0.txt\n",
      "The image has been deleted: //schoolnas-work/schoolnas-work/seatbelt/seatbelt_label_03_06_added_230324_train_data/10_jj_230310_carnival\\right1_230310_075818_0.jpg\n",
      "The image has been deleted: //schoolnas-work/schoolnas-work/seatbelt/seatbelt_label_03_06_added_230324_train_data/10_jj_230310_carnival\\right1_230310_075818_0.txt\n"
     ]
    }
   ],
   "source": [
    "#remove image\n",
    "\n",
    "import os\n",
    "import shutil\n",
    "\n",
    "image_folder = r'//schoolnas-work/schoolnas-work/seatbelt/seatbelt_label_03_06_added_230324_train_data/10_jj_230310_carnival'\n",
    "text_file = r'C:/Users/GnTRnD/Desktop/remove_list.txt'\n",
    "\n",
    "with open(text_file, 'r') as f:\n",
    "    exclude_list = set(f.read().splitlines())\n",
    "\n",
    "# # compare file extension\n",
    "# for root, dirs, files in os.walk(image_folder):\n",
    "#     for file in files:\n",
    "#         if file.endswith('.jpg') or file.endswith('.txt'):\n",
    "#             if file in exclude_list:\n",
    "#                 image_path = os.path.join(root, file)\n",
    "#                 print('The image has been deleted:', image_path)\n",
    "#                 os.remove(image_path)\n",
    "                         \n",
    "#don't conpare file extension    \n",
    "for root, dirs, files in os.walk(image_folder):\n",
    "    for file in files:\n",
    "        filename = os.path.splitext(file)[0] # get filename without extension\n",
    "        if filename in exclude_list:\n",
    "            image_path = os.path.join(root, file)\n",
    "            print('The image has been deleted:', image_path)\n",
    "            os.remove(image_path) "
   ]
  }
 ],
 "metadata": {
  "kernelspec": {
   "display_name": "Python 3 (ipykernel)",
   "language": "python",
   "name": "python3"
  },
  "language_info": {
   "codemirror_mode": {
    "name": "ipython",
    "version": 3
   },
   "file_extension": ".py",
   "mimetype": "text/x-python",
   "name": "python",
   "nbconvert_exporter": "python",
   "pygments_lexer": "ipython3",
   "version": "3.9.13"
  }
 },
 "nbformat": 4,
 "nbformat_minor": 5
}
