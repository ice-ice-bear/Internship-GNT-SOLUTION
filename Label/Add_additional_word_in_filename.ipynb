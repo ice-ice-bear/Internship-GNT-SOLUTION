{
 "cells": [
  {
   "cell_type": "code",
   "execution_count": 1,
   "id": "462a27ea",
   "metadata": {},
   "outputs": [],
   "source": [
    "import os\n",
    "import shutil\n",
    "\n",
    "folder_path = \"//schoolnas-work/schoolnas-work/seatbelt/seatbelt_sh_jj_dwpg_kcity_aimmo_230227_checked_fin_230314_dwpg_230315_conf55_results/labels_target_3/detect_yolo\"  # replace with the actual path to your folder\n",
    "\n",
    "# loop through all files in the folder\n",
    "for filename in os.listdir(folder_path):\n",
    "    # split the filename into base name and extension\n",
    "    basename, ext = os.path.splitext(filename)\n",
    "    \n",
    "    # construct the new filename by adding \"_yolo\" to the base name\n",
    "    new_basename = basename + \"_yolo\"\n",
    "    new_filename = new_basename + ext\n",
    "    \n",
    "    # get the full path to the original file and the new file\n",
    "    old_path = os.path.join(folder_path, filename)\n",
    "    new_path = os.path.join(folder_path, new_filename)\n",
    "    \n",
    "    # rename the file\n",
    "    shutil.move(old_path, new_path)\n"
   ]
  },
  {
   "cell_type": "code",
   "execution_count": 9,
   "id": "41006f5a",
   "metadata": {},
   "outputs": [],
   "source": [
    "#replace name\n",
    "\n",
    "import os\n",
    "import shutil\n",
    "\n",
    "folder_path = \"//schoolnas-work/schoolnas-work/seatbelt/dwpg_after_change_four_lights/230315_empty01/detect_yolo\"  # replace with the actual path to your folder\n",
    "\n",
    "# loop through all files in the folder\n",
    "for filename in os.listdir(folder_path):\n",
    "    # split the filename into base name and extension\n",
    "    basename, ext = os.path.splitext(filename)\n",
    "    \n",
    "    # replace \"_yolo_yolo\" with \"_yolo\" in the base name\n",
    "    new_basename = basename.replace(\"_yolo_yolo\", \"_yolo\")\n",
    "    \n",
    "    # construct the new filename by adding the extension\n",
    "    new_filename = new_basename + ext\n",
    "    \n",
    "    # get the full path to the original file and the new file\n",
    "    old_path = os.path.join(folder_path, filename)\n",
    "    new_path = os.path.join(folder_path, new_filename)\n",
    "    \n",
    "    # rename the file\n",
    "    shutil.move(old_path, new_path)\n"
   ]
  },
  {
   "cell_type": "code",
   "execution_count": null,
   "id": "f7ee182e",
   "metadata": {},
   "outputs": [],
   "source": []
  }
 ],
 "metadata": {
  "kernelspec": {
   "display_name": "Python 3 (ipykernel)",
   "language": "python",
   "name": "python3"
  },
  "language_info": {
   "codemirror_mode": {
    "name": "ipython",
    "version": 3
   },
   "file_extension": ".py",
   "mimetype": "text/x-python",
   "name": "python",
   "nbconvert_exporter": "python",
   "pygments_lexer": "ipython3",
   "version": "3.9.13"
  }
 },
 "nbformat": 4,
 "nbformat_minor": 5
}
