{
 "cells": [
  {
   "cell_type": "code",
   "execution_count": 5,
   "metadata": {},
   "outputs": [
    {
     "name": "stderr",
     "output_type": "stream",
     "text": [
      "0it [00:00, ?it/s]\n"
     ]
    }
   ],
   "source": [
    "#unzip the by the condition\n",
    "import zipfile\n",
    "import tqdm\n",
    "import os\n",
    "\n",
    "folder_path = \"S:/04.seatbelt/01.수집데이터/[R2022-02]대왕판교 수집데이터/daewangpangyo\"\n",
    "\n",
    "# Open the zip file\n",
    "with zipfile.ZipFile(folder_path + \"/230501.zip\", \"r\") as zip_ref:\n",
    "\n",
    "    # Get a list of the files in the zip file\n",
    "    files = zip_ref.namelist()\n",
    "\n",
    "    # Filter the list to only include image files\n",
    "    image_files = [file for file in files if file.endswith(\".jpg\") or file.endswith(\".png\")]\n",
    "\n",
    "    # Filter the list to only include files that do not contain the string \"yolo\"\n",
    "    filtered_files = [file for file in image_files if \"yolo\" not in file]\n",
    "\n",
    "    # Filter the list to only include files that contain the strings \"_l_\" and \"_r_\"\n",
    "    final_files = [file for file in filtered_files if \"_l_\" in file and \"_r_\" in file]\n",
    "\n",
    "    os.makedirs(folder_path + \"/230501\", exist_ok=True)\n",
    "\n",
    "    # Extract the filtered files to the directory \"230428\"\n",
    "    for file in tqdm.tqdm(final_files):\n",
    "        zip_ref.extract(file, folder_path + \"/230501\")"
   ]
  },
  {
   "cell_type": "code",
   "execution_count": 6,
   "metadata": {},
   "outputs": [
    {
     "name": "stderr",
     "output_type": "stream",
     "text": [
      "100%|██████████| 23055/23055 [07:01<00:00, 54.64it/s]\n"
     ]
    }
   ],
   "source": [
    "#unzip the whole file\n",
    "import zipfile\n",
    "import tqdm\n",
    "\n",
    "folder_path = \"S:/04.seatbelt/01.수집데이터/[R2022-02]대왕판교 수집데이터/daewangpangyo\"\n",
    "\n",
    "# Open the zip file\n",
    "with zipfile.ZipFile(folder_path + \"/230501.zip\", \"r\") as zip_ref:\n",
    "\n",
    "    # Extract all the files to the directory \"/my/new/directory\"\n",
    "    for file in tqdm.tqdm(zip_ref.namelist(), desc = 'Unzip file'):\n",
    "        zip_ref.extract(file, folder_path + \"/230501\")"
   ]
  },
  {
   "cell_type": "code",
   "execution_count": null,
   "metadata": {},
   "outputs": [],
   "source": []
  }
 ],
 "metadata": {
  "kernelspec": {
   "display_name": "base",
   "language": "python",
   "name": "python3"
  },
  "language_info": {
   "codemirror_mode": {
    "name": "ipython",
    "version": 3
   },
   "file_extension": ".py",
   "mimetype": "text/x-python",
   "name": "python",
   "nbconvert_exporter": "python",
   "pygments_lexer": "ipython3",
   "version": "3.9.13"
  },
  "orig_nbformat": 4
 },
 "nbformat": 4,
 "nbformat_minor": 2
}
