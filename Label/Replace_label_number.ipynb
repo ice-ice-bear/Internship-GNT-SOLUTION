{
 "cells": [
  {
   "cell_type": "code",
   "execution_count": 18,
   "id": "0fc7d4f2",
   "metadata": {},
   "outputs": [],
   "source": [
    "import os\n",
    "\n",
    "# Define the folder path\n",
    "folder_path = 'C:/Users/GnTRnD/Desktop/temp_file/0306/03/left'\n",
    "\n",
    "# Loop over each file in the folder\n",
    "for file_name in os.listdir(folder_path):\n",
    "    if file_name.endswith('.txt'):\n",
    "        # Get the full file path\n",
    "        file_path = os.path.join(folder_path, file_name)\n",
    "\n",
    "        # Read the file line by line\n",
    "        try:\n",
    "            with open(file_path, 'r') as file:\n",
    "                lines = file.readlines()\n",
    "        except IndexError:\n",
    "            print(f\"IndexError occurred for file: {file_name}\")\n",
    "            continue\n",
    "\n",
    "#         # Replace '4' and '5' with '9' in lines that start with '4' or '5'\n",
    "#         if lines:\n",
    "#             new_lines = [lines[0]]  # keep the first line\n",
    "#             for i in range(1, len(lines)):\n",
    "#                 if lines[i].startswith('4') or lines[i].startswith('5'):\n",
    "#                     new_lines.append(lines[i].replace('4', '9').replace('5', '9'))\n",
    "#                 else:\n",
    "#                     new_lines.append(lines[i])\n",
    "                    \n",
    "        if lines:\n",
    "            new_lines = [lines[0]]  # keep the first line\n",
    "            for i in range(1, len(lines)):\n",
    "                if lines[i].startswith('10'):\n",
    "                    new_lines.append(lines[i].replace('10', '11'))\n",
    "                else:\n",
    "                    new_lines.append(lines[i])\n",
    "\n",
    "            # Write the updated lines back to the file\n",
    "            with open(file_path, 'w') as file:\n",
    "                file.writelines(new_lines)\n",
    "        else:\n",
    "            print(f\"Empty file: {file_name}\")"
   ]
  },
  {
   "cell_type": "code",
   "execution_count": null,
   "id": "e8545299",
   "metadata": {},
   "outputs": [],
   "source": []
  }
 ],
 "metadata": {
  "kernelspec": {
   "display_name": "Python 3 (ipykernel)",
   "language": "python",
   "name": "python3"
  },
  "language_info": {
   "codemirror_mode": {
    "name": "ipython",
    "version": 3
   },
   "file_extension": ".py",
   "mimetype": "text/x-python",
   "name": "python",
   "nbconvert_exporter": "python",
   "pygments_lexer": "ipython3",
   "version": "3.9.13"
  }
 },
 "nbformat": 4,
 "nbformat_minor": 5
}
