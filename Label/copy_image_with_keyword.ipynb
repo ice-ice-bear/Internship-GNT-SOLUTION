{
 "cells": [
  {
   "cell_type": "code",
   "execution_count": null,
   "id": "f171fe1c",
   "metadata": {},
   "outputs": [],
   "source": [
    "import os\n",
    "import shutil\n",
    "\n",
    "# 소스 디렉토리와 복사할 디렉토리를 설정\n",
    "src_dir = \"S:/04.seatbelt/01.수집데이터/[R2022-02]대왕판교 수집데이터/daewangpangyo/230427\" #소스 디렉토리\n",
    "copy_dir = \"R:/seatbelt/dp_daily_testdata/230427\" #복사 디렉토리\n",
    "\n",
    "os.makedirs(copy_dir, exist_ok= True)\n",
    "\n",
    "# 소스 디렉토리와 그 하위 디렉토리의 모든 파일을 순환\n",
    "for root, dirs, files in os.walk(src_dir):\n",
    "    for filename in files:\n",
    "        # 파일이 \".jpg\", \".jpeg\", \".png\" 확장자를 가진 이미지 파일인지 확인\n",
    "        if filename.lower().endswith((\".jpg\", \".jpeg\", \".png\")):\n",
    "            # 파일 이름이 \"left\" 또는 \"right\" 단어를 포함하는지 확인\n",
    "            if \"right1\" in filename.lower() or \"left1\" in filename.lower():\n",
    "                if \"_yolo\" not in filename.lower():\n",
    "                    # 소스 경로와 대상 경로를 구성\n",
    "                    src_path = os.path.join(root, filename)\n",
    "                    copy_path = os.path.join(copy_dir, filename)\n",
    "                    # 파일을 대상 디렉토리로 복사\n",
    "                    shutil.copy(src_path, copy_path)"
   ]
  },
  {
   "cell_type": "code",
   "execution_count": 6,
   "id": "60057b25",
   "metadata": {},
   "outputs": [
    {
     "name": "stderr",
     "output_type": "stream",
     "text": [
      "Copying Files:  31%|███▏      | 2904/9222 [01:39<03:37, 29.04file/s]\n"
     ]
    },
    {
     "ename": "KeyboardInterrupt",
     "evalue": "",
     "output_type": "error",
     "traceback": [
      "\u001b[1;31m---------------------------------------------------------------------------\u001b[0m",
      "\u001b[1;31mKeyboardInterrupt\u001b[0m                         Traceback (most recent call last)",
      "\u001b[1;32mC:\\Windows\\Temp\\ipykernel_1992\\511681376.py\u001b[0m in \u001b[0;36m<module>\u001b[1;34m\u001b[0m\n\u001b[0;32m     33\u001b[0m                         \u001b[0mcopy_path\u001b[0m \u001b[1;33m=\u001b[0m \u001b[0mos\u001b[0m\u001b[1;33m.\u001b[0m\u001b[0mpath\u001b[0m\u001b[1;33m.\u001b[0m\u001b[0mjoin\u001b[0m\u001b[1;33m(\u001b[0m\u001b[0mcopy_dir\u001b[0m\u001b[1;33m,\u001b[0m \u001b[0mfilename\u001b[0m\u001b[1;33m)\u001b[0m\u001b[1;33m\u001b[0m\u001b[1;33m\u001b[0m\u001b[0m\n\u001b[0;32m     34\u001b[0m                         \u001b[1;31m# 파일을 대상 디렉토리로 복사\u001b[0m\u001b[1;33m\u001b[0m\u001b[1;33m\u001b[0m\u001b[0m\n\u001b[1;32m---> 35\u001b[1;33m                         \u001b[0mshutil\u001b[0m\u001b[1;33m.\u001b[0m\u001b[0mcopy\u001b[0m\u001b[1;33m(\u001b[0m\u001b[0msrc_path\u001b[0m\u001b[1;33m,\u001b[0m \u001b[0mcopy_path\u001b[0m\u001b[1;33m)\u001b[0m\u001b[1;33m\u001b[0m\u001b[1;33m\u001b[0m\u001b[0m\n\u001b[0m\u001b[0;32m     36\u001b[0m                         \u001b[0mpbar\u001b[0m\u001b[1;33m.\u001b[0m\u001b[0mupdate\u001b[0m\u001b[1;33m(\u001b[0m\u001b[1;36m1\u001b[0m\u001b[1;33m)\u001b[0m\u001b[1;33m\u001b[0m\u001b[1;33m\u001b[0m\u001b[0m\n",
      "\u001b[1;32mc:\\Users\\GnTRnD\\anaconda3\\lib\\shutil.py\u001b[0m in \u001b[0;36mcopy\u001b[1;34m(src, dst, follow_symlinks)\u001b[0m\n\u001b[0;32m    425\u001b[0m     \u001b[1;32mif\u001b[0m \u001b[0mos\u001b[0m\u001b[1;33m.\u001b[0m\u001b[0mpath\u001b[0m\u001b[1;33m.\u001b[0m\u001b[0misdir\u001b[0m\u001b[1;33m(\u001b[0m\u001b[0mdst\u001b[0m\u001b[1;33m)\u001b[0m\u001b[1;33m:\u001b[0m\u001b[1;33m\u001b[0m\u001b[1;33m\u001b[0m\u001b[0m\n\u001b[0;32m    426\u001b[0m         \u001b[0mdst\u001b[0m \u001b[1;33m=\u001b[0m \u001b[0mos\u001b[0m\u001b[1;33m.\u001b[0m\u001b[0mpath\u001b[0m\u001b[1;33m.\u001b[0m\u001b[0mjoin\u001b[0m\u001b[1;33m(\u001b[0m\u001b[0mdst\u001b[0m\u001b[1;33m,\u001b[0m \u001b[0mos\u001b[0m\u001b[1;33m.\u001b[0m\u001b[0mpath\u001b[0m\u001b[1;33m.\u001b[0m\u001b[0mbasename\u001b[0m\u001b[1;33m(\u001b[0m\u001b[0msrc\u001b[0m\u001b[1;33m)\u001b[0m\u001b[1;33m)\u001b[0m\u001b[1;33m\u001b[0m\u001b[1;33m\u001b[0m\u001b[0m\n\u001b[1;32m--> 427\u001b[1;33m     \u001b[0mcopyfile\u001b[0m\u001b[1;33m(\u001b[0m\u001b[0msrc\u001b[0m\u001b[1;33m,\u001b[0m \u001b[0mdst\u001b[0m\u001b[1;33m,\u001b[0m \u001b[0mfollow_symlinks\u001b[0m\u001b[1;33m=\u001b[0m\u001b[0mfollow_symlinks\u001b[0m\u001b[1;33m)\u001b[0m\u001b[1;33m\u001b[0m\u001b[1;33m\u001b[0m\u001b[0m\n\u001b[0m\u001b[0;32m    428\u001b[0m     \u001b[0mcopymode\u001b[0m\u001b[1;33m(\u001b[0m\u001b[0msrc\u001b[0m\u001b[1;33m,\u001b[0m \u001b[0mdst\u001b[0m\u001b[1;33m,\u001b[0m \u001b[0mfollow_symlinks\u001b[0m\u001b[1;33m=\u001b[0m\u001b[0mfollow_symlinks\u001b[0m\u001b[1;33m)\u001b[0m\u001b[1;33m\u001b[0m\u001b[1;33m\u001b[0m\u001b[0m\n\u001b[0;32m    429\u001b[0m     \u001b[1;32mreturn\u001b[0m \u001b[0mdst\u001b[0m\u001b[1;33m\u001b[0m\u001b[1;33m\u001b[0m\u001b[0m\n",
      "\u001b[1;32mc:\\Users\\GnTRnD\\anaconda3\\lib\\shutil.py\u001b[0m in \u001b[0;36mcopyfile\u001b[1;34m(src, dst, follow_symlinks)\u001b[0m\n\u001b[0;32m    282\u001b[0m                     \u001b[1;31m# https://github.com/python/cpython/pull/7160#discussion_r195405230\u001b[0m\u001b[1;33m\u001b[0m\u001b[1;33m\u001b[0m\u001b[0m\n\u001b[0;32m    283\u001b[0m                     \u001b[1;32melif\u001b[0m \u001b[0m_WINDOWS\u001b[0m \u001b[1;32mand\u001b[0m \u001b[0mfile_size\u001b[0m \u001b[1;33m>\u001b[0m \u001b[1;36m0\u001b[0m\u001b[1;33m:\u001b[0m\u001b[1;33m\u001b[0m\u001b[1;33m\u001b[0m\u001b[0m\n\u001b[1;32m--> 284\u001b[1;33m                         \u001b[0m_copyfileobj_readinto\u001b[0m\u001b[1;33m(\u001b[0m\u001b[0mfsrc\u001b[0m\u001b[1;33m,\u001b[0m \u001b[0mfdst\u001b[0m\u001b[1;33m,\u001b[0m \u001b[0mmin\u001b[0m\u001b[1;33m(\u001b[0m\u001b[0mfile_size\u001b[0m\u001b[1;33m,\u001b[0m \u001b[0mCOPY_BUFSIZE\u001b[0m\u001b[1;33m)\u001b[0m\u001b[1;33m)\u001b[0m\u001b[1;33m\u001b[0m\u001b[1;33m\u001b[0m\u001b[0m\n\u001b[0m\u001b[0;32m    285\u001b[0m                         \u001b[1;32mreturn\u001b[0m \u001b[0mdst\u001b[0m\u001b[1;33m\u001b[0m\u001b[1;33m\u001b[0m\u001b[0m\n\u001b[0;32m    286\u001b[0m \u001b[1;33m\u001b[0m\u001b[0m\n",
      "\u001b[1;32mc:\\Users\\GnTRnD\\anaconda3\\lib\\shutil.py\u001b[0m in \u001b[0;36m_copyfileobj_readinto\u001b[1;34m(fsrc, fdst, length)\u001b[0m\n\u001b[0;32m    193\u001b[0m                     \u001b[0mfdst\u001b[0m\u001b[1;33m.\u001b[0m\u001b[0mwrite\u001b[0m\u001b[1;33m(\u001b[0m\u001b[0msmv\u001b[0m\u001b[1;33m)\u001b[0m\u001b[1;33m\u001b[0m\u001b[1;33m\u001b[0m\u001b[0m\n\u001b[0;32m    194\u001b[0m             \u001b[1;32melse\u001b[0m\u001b[1;33m:\u001b[0m\u001b[1;33m\u001b[0m\u001b[1;33m\u001b[0m\u001b[0m\n\u001b[1;32m--> 195\u001b[1;33m                 \u001b[0mfdst_write\u001b[0m\u001b[1;33m(\u001b[0m\u001b[0mmv\u001b[0m\u001b[1;33m)\u001b[0m\u001b[1;33m\u001b[0m\u001b[1;33m\u001b[0m\u001b[0m\n\u001b[0m\u001b[0;32m    196\u001b[0m \u001b[1;33m\u001b[0m\u001b[0m\n\u001b[0;32m    197\u001b[0m \u001b[1;32mdef\u001b[0m \u001b[0mcopyfileobj\u001b[0m\u001b[1;33m(\u001b[0m\u001b[0mfsrc\u001b[0m\u001b[1;33m,\u001b[0m \u001b[0mfdst\u001b[0m\u001b[1;33m,\u001b[0m \u001b[0mlength\u001b[0m\u001b[1;33m=\u001b[0m\u001b[1;36m0\u001b[0m\u001b[1;33m)\u001b[0m\u001b[1;33m:\u001b[0m\u001b[1;33m\u001b[0m\u001b[1;33m\u001b[0m\u001b[0m\n",
      "\u001b[1;31mKeyboardInterrupt\u001b[0m: "
     ]
    }
   ],
   "source": [
    "import os\n",
    "import shutil\n",
    "from tqdm import tqdm\n",
    "\n",
    "# 소스 디렉토리와 복사할 디렉토리를 설정\n",
    "src_dir = \"S:/04.seatbelt/01.수집데이터/[R2022-02]대왕판교 수집데이터/daewangpangyo/230501\" # 소스 디렉토리\n",
    "copy_dir = \"R:/seatbelt/dp_daily_testdata/230501\" # 복사 디렉토리\n",
    "\n",
    "os.makedirs(copy_dir, exist_ok=True)\n",
    "\n",
    "# 소스 디렉토리와 그 하위 디렉토리의 모든 파일을 순환하며 조건에 맞는 파일 수 계산\n",
    "total_files = 0\n",
    "for root, dirs, files in os.walk(src_dir):\n",
    "    for filename in files:\n",
    "        # 파일이 \".jpg\", \".jpeg\", \".png\" 확장자를 가진 이미지 파일인지 확인\n",
    "        if filename.lower().endswith((\".jpg\", \".jpeg\", \".png\")):\n",
    "            # 파일 이름이 \"right1\" 또는 \"left1\" 단어를 포함하는지 확인\n",
    "            if \"_r_\" in filename.lower() or \"_l_\" in filename.lower():\n",
    "                if \"_yolo\" not in filename.lower():\n",
    "                    total_files += 1\n",
    "\n",
    "# tqdm을 사용하여 파일 복사 진행 상황 표시\n",
    "with tqdm(total=total_files, desc=\"Copying Files\", unit=\"file\") as pbar:\n",
    "    for root, dirs, files in os.walk(src_dir):\n",
    "        for filename in files:\n",
    "            # 파일이 \".jpg\", \".jpeg\", \".png\" 확장자를 가진 이미지 파일인지 확인\n",
    "            if filename.lower().endswith((\".jpg\", \".jpeg\", \".png\")):\n",
    "                # 파일 이름이 \"right1\" 또는 \"left1\" 단어를 포함하는지 확인\n",
    "                if \"_r_\" in filename.lower() or \"_l_\" in filename.lower():\n",
    "                    if \"_yolo\" not in filename.lower():\n",
    "                        # 소스 경로와 대상 경로를 구성\n",
    "                        src_path = os.path.join(root, filename)\n",
    "                        copy_path = os.path.join(copy_dir, filename)\n",
    "                        # 파일을 대상 디렉토리로 복사\n",
    "                        shutil.copy(src_path, copy_path)\n",
    "                        pbar.update(1)\n"
   ]
  },
  {
   "cell_type": "code",
   "execution_count": 7,
   "id": "1232b917",
   "metadata": {},
   "outputs": [
    {
     "name": "stderr",
     "output_type": "stream",
     "text": [
      "Copying Files: 100%|██████████| 9222/9222 [08:12<00:00, 18.71file/s]\n"
     ]
    }
   ],
   "source": [
    "#Final version\n",
    "\n",
    "import os\n",
    "import shutil\n",
    "from tqdm import tqdm\n",
    "\n",
    "# 소스 디렉토리와 복사할 디렉토리를 설정\n",
    "src_dir = \"S:/04.seatbelt/01.수집데이터/[R2022-02]대왕판교 수집데이터/daewangpangyo/230501\" # 소스 디렉토리\n",
    "copy_dir = \"R:/seatbelt/dp_daily_testdata/230501\" # 복사 디렉토리\n",
    "\n",
    "os.makedirs(copy_dir, exist_ok=True)\n",
    "\n",
    "# 조건을 만족하는 파일 수와 tqdm을 위한 파일 리스트 초기화\n",
    "total_files = 0\n",
    "file_list = []\n",
    "\n",
    "# 소스 디렉토리와 그 하위 디렉토리의 모든 파일을 순환하며 조건에 맞는 파일 수와 파일 리스트 계산\n",
    "for root, dirs, files in os.walk(src_dir):\n",
    "    for filename in files:\n",
    "        # 파일이 \".jpg\", \".jpeg\", \".png\" 확장자를 가진 이미지 파일이고 파일 이름이 \"right1\" 또는 \"left1\"을 포함하며 \"_yolo\"을 포함하지 않는지 확인\n",
    "        if filename.lower().endswith((\".jpg\", \".jpeg\", \".png\")) and (\"_r_\" in filename.lower() or \"_l_\" in filename.lower()) and \"_yolo\" not in filename.lower():\n",
    "            total_files += 1\n",
    "            file_list.append((root, filename))\n",
    "\n",
    "# tqdm을 사용하여 파일 복사 진행 상황 표시\n",
    "with tqdm(total=total_files, desc=\"Copying Files\", unit=\"file\") as pbar:\n",
    "    for root, filename in file_list:\n",
    "        src_path = os.path.join(root, filename)\n",
    "        copy_path = os.path.join(copy_dir, filename)\n",
    "        shutil.copy(src_path, copy_path)\n",
    "        pbar.update(1)\n"
   ]
  },
  {
   "cell_type": "code",
   "execution_count": 3,
   "id": "b9a68c80",
   "metadata": {},
   "outputs": [],
   "source": [
    "import os\n",
    "import shutil\n",
    "\n",
    "# 소스 디렉토리와 이동할 디렉토리를 설정\n",
    "src_dir = \"R:/seatbelt/ms_daily_testdata/230605\" #소스 디렉토리\n",
    "\n",
    "# 소스 디렉토리와 그 하위 디렉토리의 모든 파일을 순환\n",
    "for root, dirs, files in os.walk(src_dir):\n",
    "    for filename in files:\n",
    "        # 파일이 \".jpg\", \".jpeg\", \".png\" 확장자를 가진 이미지 파일인지 확인\n",
    "        if filename.lower().endswith((\".jpg\", \".jpeg\", \".png\")):\n",
    "            # 파일 이름이 \"yolo\" 단어를 포함하는지 확인\n",
    "            if \"_yolo\" in filename.lower():\n",
    "                # 소스 경로와 대상 경로를 구성\n",
    "                src_path = os.path.join(root, filename)\n",
    "                # 파일을 대상 디렉토리로 이동\n",
    "                shutil.rmtree(src_path, src_path)"
   ]
  },
  {
   "cell_type": "code",
   "execution_count": null,
   "id": "6e68dc4c",
   "metadata": {},
   "outputs": [],
   "source": []
  }
 ],
 "metadata": {
  "kernelspec": {
   "display_name": "Python 3 (ipykernel)",
   "language": "python",
   "name": "python3"
  },
  "language_info": {
   "codemirror_mode": {
    "name": "ipython",
    "version": 3
   },
   "file_extension": ".py",
   "mimetype": "text/x-python",
   "name": "python",
   "nbconvert_exporter": "python",
   "pygments_lexer": "ipython3",
   "version": "3.9.13"
  }
 },
 "nbformat": 4,
 "nbformat_minor": 5
}
