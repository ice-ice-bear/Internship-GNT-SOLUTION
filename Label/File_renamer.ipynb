{
 "cells": [
  {
   "cell_type": "code",
   "execution_count": 2,
   "metadata": {},
   "outputs": [],
   "source": [
    "import os\n",
    "\n",
    "folder_path = r\"H:\\02.가공데이터\\02._AIMMO\\to_aimmo\\3.3차(2302~)\\2306\\230612_1\"  # 대상 폴더 경로\n",
    "\n",
    "for file in os.listdir(folder_path):\n",
    "    if file.endswith(\".jpg\") or file.endswith(\".txt\"):  # .jpg 또는 .txt 파일이면 실행\n",
    "        clr = file.split('_')[0]  # 파일 이름에서 왼쪽/오른쪽 정보 추출\n",
    "        date = file.split('_')[1]  # 파일 이름에서 날짜 정보 추출\n",
    "        time = file.split('_')[2]  # 파일 이름에서 시간 정보 추출\n",
    "\n",
    "        new_file = date + '_' + time + '_0_' + clr + '.jpg'  # 새 파일 이름 생성\n",
    "        os.rename(os.path.join(folder_path, file), os.path.join(folder_path, new_file))  # 파일 이름 변경\n"
   ]
  },
  {
   "cell_type": "code",
   "execution_count": 16,
   "metadata": {},
   "outputs": [],
   "source": [
    "import os\n",
    "\n",
    "folder_path = r\"H:\\02.가공데이터\\02._AIMMO\\to_aimmo\\3.3차(2302~)\\2306\\230605_1\"\n",
    "\n",
    "# if file_name.endswith(\".jpg\") or file_name.endswith(\".txt\"):\n",
    "\n",
    "for file_name in os.listdir(folder_path):\n",
    "    new_file_name = file_name.replace(\"_side1\", \"_side1.jpg\")\n",
    "    os.rename(os.path.join(folder_path, file_name), os.path.join(folder_path, new_file_name))"
   ]
  },
  {
   "cell_type": "code",
   "execution_count": 1,
   "metadata": {},
   "outputs": [
    {
     "ename": "KeyboardInterrupt",
     "evalue": "",
     "output_type": "error",
     "traceback": [
      "\u001b[1;31m---------------------------------------------------------------------------\u001b[0m",
      "\u001b[1;31mKeyboardInterrupt\u001b[0m                         Traceback (most recent call last)",
      "\u001b[1;32mC:\\Windows\\Temp\\ipykernel_1332\\97726106.py\u001b[0m in \u001b[0;36m<module>\u001b[1;34m\u001b[0m\n\u001b[0;32m      5\u001b[0m \u001b[0mfolder_path\u001b[0m \u001b[1;33m=\u001b[0m \u001b[1;34m\"R:/seatbelt/dp_daily_testdata/230501\"\u001b[0m\u001b[1;33m\u001b[0m\u001b[1;33m\u001b[0m\u001b[0m\n\u001b[0;32m      6\u001b[0m \u001b[1;33m\u001b[0m\u001b[0m\n\u001b[1;32m----> 7\u001b[1;33m \u001b[1;32mwith\u001b[0m \u001b[0mtqdm\u001b[0m\u001b[1;33m.\u001b[0m\u001b[0mtqdm\u001b[0m\u001b[1;33m(\u001b[0m\u001b[0mtotal\u001b[0m\u001b[1;33m=\u001b[0m\u001b[0mlen\u001b[0m\u001b[1;33m(\u001b[0m\u001b[0mos\u001b[0m\u001b[1;33m.\u001b[0m\u001b[0mlistdir\u001b[0m\u001b[1;33m(\u001b[0m\u001b[0mfolder_path\u001b[0m\u001b[1;33m)\u001b[0m\u001b[1;33m)\u001b[0m\u001b[1;33m,\u001b[0m \u001b[0mdesc\u001b[0m\u001b[1;33m=\u001b[0m\u001b[1;34m\"Renaming Files\"\u001b[0m\u001b[1;33m)\u001b[0m \u001b[1;32mas\u001b[0m \u001b[0mpbar\u001b[0m\u001b[1;33m:\u001b[0m\u001b[1;33m\u001b[0m\u001b[1;33m\u001b[0m\u001b[0m\n\u001b[0m\u001b[0;32m      8\u001b[0m     \u001b[1;32mfor\u001b[0m \u001b[0mfile_name\u001b[0m \u001b[1;32min\u001b[0m \u001b[0mos\u001b[0m\u001b[1;33m.\u001b[0m\u001b[0mlistdir\u001b[0m\u001b[1;33m(\u001b[0m\u001b[0mfolder_path\u001b[0m\u001b[1;33m)\u001b[0m\u001b[1;33m:\u001b[0m\u001b[1;33m\u001b[0m\u001b[1;33m\u001b[0m\u001b[0m\n\u001b[0;32m      9\u001b[0m         \u001b[1;32mif\u001b[0m \u001b[0mfile_name\u001b[0m\u001b[1;33m.\u001b[0m\u001b[0mendswith\u001b[0m\u001b[1;33m(\u001b[0m\u001b[1;34m\".jpg\"\u001b[0m\u001b[1;33m)\u001b[0m \u001b[1;32mor\u001b[0m \u001b[0mfile_name\u001b[0m\u001b[1;33m.\u001b[0m\u001b[0mendswith\u001b[0m\u001b[1;33m(\u001b[0m\u001b[1;34m\".txt\"\u001b[0m\u001b[1;33m)\u001b[0m\u001b[1;33m:\u001b[0m\u001b[1;33m\u001b[0m\u001b[1;33m\u001b[0m\u001b[0m\n",
      "\u001b[1;31mKeyboardInterrupt\u001b[0m: "
     ]
    }
   ],
   "source": [
    "import os\n",
    "import tqdm\n",
    "\n",
    "\n",
    "folder_path = \"R:/seatbelt/dp_daily_testdata/230501\"\n",
    "\n",
    "with tqdm.tqdm(total=len(os.listdir(folder_path)), desc=\"Renaming Files\") as pbar:\n",
    "    for file_name in os.listdir(folder_path):\n",
    "        if file_name.endswith(\".jpg\") or file_name.endswith(\".txt\"):\n",
    "            new_file_name = file_name.replace(\"kc_\", \"dp_\")\n",
    "            os.rename(os.path.join(folder_path, file_name), os.path.join(folder_path, new_file_name))\n",
    "            pbar.update(1)"
   ]
  },
  {
   "cell_type": "code",
   "execution_count": null,
   "metadata": {},
   "outputs": [],
   "source": [
    "import os\n",
    "\n",
    "# specify the folder path where your image file is located\n",
    "folder_path = 'S:/98.기타/승렬학생/dacon/convert_test_sample'\n",
    "\n",
    "# loop through all the files in the folder\n",
    "for filename in os.listdir(folder_path):\n",
    "    \n",
    "    # check if the file is an image file (e.g. jpg, png, jpeg)\n",
    "    if filename.endswith(('.jpg', '.png', '.jpeg')):\n",
    "        \n",
    "        # construct the new filename with \"_yolo\" added to the end\n",
    "        new_filename = filename.split('.')[0] + '_yolo.' + filename.split('.')[1]\n",
    "        \n",
    "        # rename the file with the new filename\n",
    "        os.rename(os.path.join(folder_path, filename), os.path.join(folder_path, new_filename))\n"
   ]
  },
  {
   "cell_type": "code",
   "execution_count": null,
   "metadata": {},
   "outputs": [],
   "source": [
    "import os\n",
    "\n",
    "folder_path = \"R:/seatbelt/dp_daily_testdata/230426\"\n",
    "\n",
    "# 지정된 폴더 경로에 있는 파일들을 순회하면서 처리합니다.\n",
    "for file_name in os.listdir(folder_path):\n",
    "    # 파일 이름이 \".jpg\" 또는 \".txt\"로 끝나는 경우에만 처리합니다.\n",
    "    if file_name.endswith(\".jpg\") or file_name.endswith(\".txt\"):\n",
    "        # 새 파일 이름을 기존 파일 이름에서 \"kc_\"를 \"dp_\"로 바꾸어 생성합니다.\n",
    "        new_file_name = file_name.replace(\"kc_\", \"dp_\")\n",
    "        # 기존 파일의 경로와 새 파일 이름을 결합하여 파일의 경로를 생성합니다.\n",
    "        old_file_path = os.path.join(folder_path, file_name)\n",
    "        new_file_path = os.path.join(folder_path, new_file_name)\n",
    "        # 기존 파일을 새 파일 이름으로 변경합니다.\n",
    "        os.rename(old_file_path, new_file_path)\n"
   ]
  }
 ],
 "metadata": {
  "kernelspec": {
   "display_name": "base",
   "language": "python",
   "name": "python3"
  },
  "language_info": {
   "codemirror_mode": {
    "name": "ipython",
    "version": 3
   },
   "file_extension": ".py",
   "mimetype": "text/x-python",
   "name": "python",
   "nbconvert_exporter": "python",
   "pygments_lexer": "ipython3",
   "version": "3.11.4"
  },
  "orig_nbformat": 4
 },
 "nbformat": 4,
 "nbformat_minor": 2
}
