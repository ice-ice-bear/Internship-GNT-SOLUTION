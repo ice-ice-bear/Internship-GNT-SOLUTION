{
 "cells": [
  {
   "cell_type": "code",
   "execution_count": 8,
   "id": "6c57391e",
   "metadata": {},
   "outputs": [],
   "source": [
    "import os\n",
    "\n",
    "folder_path = 'C:/Users/GnTRnD/Desktop/temp_file/0306/03/left'\n",
    "output_file = 'file_list.txt'\n",
    "\n",
    "with open(output_file, 'w') as f:\n",
    "    for filename in os.listdir(folder_path):\n",
    "        try:\n",
    "            with open(os.path.join(folder_path, filename), 'r') as file:\n",
    "                for line in file:\n",
    "                    values = line.split()\n",
    "                    class_number = int(values[0])\n",
    "                    x_coordinate = float(values[1])\n",
    "                    if class_number == 1:\n",
    "                        x_min = x_coordinate\n",
    "                    elif class_number == 10:\n",
    "                        if x_coordinate < x_min:\n",
    "                            f.write(f\"{filename}\\n\")\n",
    "                            break\n",
    "        except PermissionError:\n",
    "            print(f\"Permission denied: {filename}\")\n"
   ]
  },
  {
   "cell_type": "code",
   "execution_count": 16,
   "id": "b0666a82",
   "metadata": {},
   "outputs": [
    {
     "name": "stdout",
     "output_type": "stream",
     "text": [
      "ValueError: classes.txt\n",
      "ValueError: classes.txt\n",
      "ValueError: classes.txt\n",
      "ValueError: classes.txt\n",
      "ValueError: classes.txt\n",
      "ValueError: classes.txt\n",
      "ValueError: classes.txt\n",
      "ValueError: classes.txt\n",
      "ValueError: classes.txt\n",
      "ValueError: classes.txt\n",
      "ValueError: classes.txt\n",
      "ValueError: classes.txt\n"
     ]
    }
   ],
   "source": [
    "#check if pillar is larger than expected\n",
    "\n",
    "import os\n",
    "\n",
    "folder_path = 'path/to/folder\n",
    "output_file = folder_path + './0.file_list.txt'\n",
    "\n",
    "with open(output_file, 'w') as f:\n",
    "    for filename in os.listdir(folder_path):\n",
    "        if filename.endswith('.txt'):\n",
    "            try:\n",
    "                with open(os.path.join(folder_path, filename), 'r') as file:\n",
    "                    for line in file:\n",
    "                        try: \n",
    "                            values = line.split()\n",
    "                            class_number = int(values[0])\n",
    "                            x_coordinate = float(values[1])\n",
    "                            y_coordinate = float(values[2])\n",
    "                            width = float(values[3])\n",
    "                            height = float(values[4])\n",
    "                            if class_number == 1:\n",
    "                                if width > 200:\n",
    "                                    f.write(f\"{filename}\\n\")\n",
    "                                    break\n",
    "                        except ValueError:\n",
    "                            print(f\"ValueError: {filename}\")\n",
    "                        \n",
    "            except PermissionError:\n",
    "                print(f\"Permission denied: {filename}\")"
   ]
  },
  {
   "cell_type": "code",
   "execution_count": null,
   "id": "d6df5614",
   "metadata": {},
   "outputs": [],
   "source": []
  }
 ],
 "metadata": {
  "kernelspec": {
   "display_name": "Python 3 (ipykernel)",
   "language": "python",
   "name": "python3"
  },
  "language_info": {
   "codemirror_mode": {
    "name": "ipython",
    "version": 3
   },
   "file_extension": ".py",
   "mimetype": "text/x-python",
   "name": "python",
   "nbconvert_exporter": "python",
   "pygments_lexer": "ipython3",
   "version": "3.9.13"
  }
 },
 "nbformat": 4,
 "nbformat_minor": 5
}
