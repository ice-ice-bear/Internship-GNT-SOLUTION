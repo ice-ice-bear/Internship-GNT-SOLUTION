{
 "cells": [
  {
   "cell_type": "code",
   "execution_count": 4,
   "id": "f7f35e50",
   "metadata": {},
   "outputs": [],
   "source": [
    "import os\n",
    "\n",
    "folder_path = 'C:/Users/GnTRnD/Desktop/학습데이터/labels'\n",
    "\n",
    "for filename in os.listdir(folder_path):\n",
    "    with open(os.path.join(folder_path, filename), 'r') as file:\n",
    "        lines = file.readlines()\n",
    "    \n",
    "    with open(os.path.join(folder_path, filename), 'w') as file:\n",
    "        for line in lines:\n",
    "            words = line.strip().split()\n",
    "            new_line = ' '.join(words[:-1]) + '\\n'\n",
    "            file.write(new_line)\n"
   ]
  },
  {
   "cell_type": "code",
   "execution_count": null,
   "id": "15823397",
   "metadata": {},
   "outputs": [],
   "source": [
    "#saving both original and line striped file\n",
    "\n",
    "import os\n",
    "\n",
    "input_folder = 'detect'\n",
    "output_folder = 'detect_removed'\n",
    "\n",
    "# Create the output folder if it doesn't exist\n",
    "if not os.path.exists(output_folder):\n",
    "    os.makedirs(output_folder)\n",
    "\n",
    "# Loop through all the files in the input folder\n",
    "for filename in os.listdir(input_folder):\n",
    "    input_filepath = os.path.join(input_folder, filename)\n",
    "    output_filepath = os.path.join(output_folder, filename)\n",
    "    \n",
    "    # Open the input file and read its contents\n",
    "    with open(input_filepath, 'r') as input_file:\n",
    "        lines = input_file.readlines()\n",
    "    \n",
    "    # Remove the last word from each line\n",
    "    removed_lines = []\n",
    "    for line in lines:\n",
    "        words = line.strip().split()\n",
    "        new_line = ' '.join(words[:-1]) + '\\n'\n",
    "        removed_lines.append(new_line)\n",
    "    \n",
    "    # Write the removed text to the output file\n",
    "    with open(output_filepath, 'w') as output_file:\n",
    "        output_file.writelines(removed_lines)\n"
   ]
  }
 ],
 "metadata": {
  "kernelspec": {
   "display_name": "Python 3 (ipykernel)",
   "language": "python",
   "name": "python3"
  },
  "language_info": {
   "codemirror_mode": {
    "name": "ipython",
    "version": 3
   },
   "file_extension": ".py",
   "mimetype": "text/x-python",
   "name": "python",
   "nbconvert_exporter": "python",
   "pygments_lexer": "ipython3",
   "version": "3.9.13"
  }
 },
 "nbformat": 4,
 "nbformat_minor": 5
}
