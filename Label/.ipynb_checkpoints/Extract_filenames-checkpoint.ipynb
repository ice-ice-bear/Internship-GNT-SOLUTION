{
 "cells": [
  {
   "cell_type": "code",
   "execution_count": null,
   "id": "642919e2",
   "metadata": {},
   "outputs": [],
   "source": [
    "import os\n",
    "\n",
    "folder_path = \"path/to/folder\" # replace with the path to your folder\n",
    "\n",
    "# Get a list of all files in the folder\n",
    "file_names = os.listdir(folder_path)\n",
    "\n",
    "# Save the list of file names to a text file\n",
    "with open(\"file_names.txt\", \"w\") as file:\n",
    "    for name in file_names:\n",
    "        file.write(name + \"\\n\")"
   ]
  }
 ],
 "metadata": {
  "kernelspec": {
   "display_name": "Python 3 (ipykernel)",
   "language": "python",
   "name": "python3"
  },
  "language_info": {
   "codemirror_mode": {
    "name": "ipython",
    "version": 3
   },
   "file_extension": ".py",
   "mimetype": "text/x-python",
   "name": "python",
   "nbconvert_exporter": "python",
   "pygments_lexer": "ipython3",
   "version": "3.9.13"
  }
 },
 "nbformat": 4,
 "nbformat_minor": 5
}
