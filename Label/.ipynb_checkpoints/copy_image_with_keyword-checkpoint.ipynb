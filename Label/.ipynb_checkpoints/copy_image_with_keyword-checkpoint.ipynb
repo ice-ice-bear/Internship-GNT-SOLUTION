{
 "cells": [
  {
   "cell_type": "code",
   "execution_count": 2,
   "id": "f171fe1c",
   "metadata": {},
   "outputs": [],
   "source": [
    "import os\n",
    "import shutil\n",
    "\n",
    "# 소스 디렉토리와 복사할 디렉토리를 설정\n",
    "src_dir = \"/path/to/source/directory\" #소스 디렉토리\n",
    "copy_dir = \"/path/to/copy/directory\" #복사 디렉토리\n",
    "\n",
    "# 소스 디렉토리와 그 하위 디렉토리의 모든 파일을 순환\n",
    "for root, dirs, files in os.walk(src_dir):\n",
    "    for filename in files:\n",
    "        # 파일이 \".jpg\", \".jpeg\", \".png\" 확장자를 가진 이미지 파일인지 확인\n",
    "        if filename.lower().endswith((\".jpg\", \".jpeg\", \".png\")):\n",
    "            # 파일 이름이 \"left\" 또는 \"right\" 단어를 포함하는지 확인\n",
    "            if \"left\" in filename.lower() or \"right\" in filename.lower():\n",
    "                # 소스 경로와 대상 경로를 구성\n",
    "                src_path = os.path.join(root, filename)\n",
    "                copy_path = os.path.join(copy_dir, filename)\n",
    "                # 파일을 대상 디렉토리로 복사\n",
    "                shutil.copy(src_path, copy_path)"
   ]
  },
  {
   "cell_type": "code",
   "execution_count": null,
   "id": "a42fb3e6",
   "metadata": {},
   "outputs": [],
   "source": []
  }
 ],
 "metadata": {
  "kernelspec": {
   "display_name": "Python 3 (ipykernel)",
   "language": "python",
   "name": "python3"
  },
  "language_info": {
   "codemirror_mode": {
    "name": "ipython",
    "version": 3
   },
   "file_extension": ".py",
   "mimetype": "text/x-python",
   "name": "python",
   "nbconvert_exporter": "python",
   "pygments_lexer": "ipython3",
   "version": "3.9.13"
  }
 },
 "nbformat": 4,
 "nbformat_minor": 5
}
