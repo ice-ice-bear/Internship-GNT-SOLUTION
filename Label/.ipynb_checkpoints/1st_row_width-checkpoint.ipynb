{
 "cells": [
  {
   "cell_type": "code",
   "execution_count": 3,
   "id": "e2013bce",
   "metadata": {},
   "outputs": [
    {
     "name": "stdout",
     "output_type": "stream",
     "text": [
      "ValueError: jj_classes.txt\n",
      "ValueError: dp_classes.txt\n",
      "ValueError: classes.txt\n",
      "ValueError: 0.readme.txt\n"
     ]
    }
   ],
   "source": [
    "#person_01, person_01_seatbelt 폭에 따라 이미지 리스트 추출\n",
    "import os\n",
    "\n",
    "folder_path = '//schoolnas-work/schoolnas-work/seatbelt/seatbelt_label_03_06_added_230331_train_data_6711added_integrated - 복사본'\n",
    "output_file = folder_path + './2_3_width_file.txt'\n",
    "\n",
    "with open(output_file, 'w') as f:\n",
    "    for filename in os.listdir(folder_path):\n",
    "        if filename.endswith('.txt'):\n",
    "            try:\n",
    "                with open(os.path.join(folder_path, filename), 'r') as file:\n",
    "                    try:\n",
    "                        for line in file:\n",
    "                            values = line.split()\n",
    "                            class_number = int(values[0])\n",
    "                            width = float(values[3])\n",
    "                            #person_01과 person_01_seatbelt에 대해서 폭이 0.1이하인 레이블 추출\n",
    "                            if class_number == 2 or class_number == 3:\n",
    "                                if width < 0.1:\n",
    "                                    f.write(f\"{filename}\\n\")\n",
    "                                    break\n",
    "                    #class.txt ValueError 방지용                \n",
    "                    except ValueError:\n",
    "                        print(f\"ValueError: {filename}\")\n",
    "            #로컬 외 경로 입력 시, PermissionError 방지용            \n",
    "            except PermissionError:\n",
    "                print(f\"Permission denied: {filename}\")"
   ]
  },
  {
   "cell_type": "code",
   "execution_count": null,
   "id": "d77af6e9",
   "metadata": {},
   "outputs": [],
   "source": [
    "#Only care about the file name not the file extension\n",
    "import os\n",
    "import shutil\n",
    "\n",
    "image_folder = r'C:/Users/GnTRnD/Desktop/temp_file/0306/03'\n",
    "text_file = r'C:/Users/GnTRnD/Desktop/temp_file/0306/03/file_list.txt'\n",
    "output_folder = r'C:/Users/GnTRnD/Desktop/temp_file/0306/03/unmatch'\n",
    "\n",
    "with open(text_file, 'r') as f:\n",
    "    exclude_list = set(f.read().splitlines())\n",
    "\n",
    "for root, dirs, files in os.walk(image_folder):\n",
    "    for file in files:\n",
    "        filename = os.path.splitext(file)[0] # get filename without extension\n",
    "        if filename in exclude_list:\n",
    "            image_path = os.path.join(root, file)\n",
    "            output_path = os.path.join(output_folder, file)\n",
    "            print('Moving file:', image_path, 'to', output_path)\n",
    "            shutil.move(image_path, output_path)"
   ]
  }
 ],
 "metadata": {
  "kernelspec": {
   "display_name": "Python 3 (ipykernel)",
   "language": "python",
   "name": "python3"
  },
  "language_info": {
   "codemirror_mode": {
    "name": "ipython",
    "version": 3
   },
   "file_extension": ".py",
   "mimetype": "text/x-python",
   "name": "python",
   "nbconvert_exporter": "python",
   "pygments_lexer": "ipython3",
   "version": "3.9.13"
  }
 },
 "nbformat": 4,
 "nbformat_minor": 5
}
