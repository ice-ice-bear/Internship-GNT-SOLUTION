{
 "cells": [
  {
   "cell_type": "code",
   "execution_count": 3,
   "id": "fb631960",
   "metadata": {},
   "outputs": [],
   "source": [
    "#removing the last line\n",
    "\n",
    "import os\n",
    "\n",
    "# Define the folder path\n",
    "folder_path = '/path/to/folder/'\n",
    "\n",
    "# Loop over each file in the folder\n",
    "for file_name in os.listdir(folder_path):\n",
    "    if file_name.endswith('.txt'):\n",
    "        # Get the full file path\n",
    "        file_path = os.path.join(folder_path, file_name)\n",
    "        \n",
    "        # Read the file line by line\n",
    "        with open(file_path, 'r') as file:\n",
    "            lines = file.readlines()\n",
    "        \n",
    "        # Check if the last line starts with '1'\n",
    "        if lines[-1].startswith('1'):\n",
    "            # Remove the last line from the list of lines\n",
    "            lines = lines[:-1]\n",
    "            \n",
    "            # Write the updated lines back to the file\n",
    "            with open(file_path, 'w') as file:\n",
    "                file.writelines(lines)"
   ]
  },
  {
   "cell_type": "code",
   "execution_count": null,
   "id": "cf24a099",
   "metadata": {},
   "outputs": [],
   "source": [
    "# removing all the line except second line\n",
    "\n",
    "import os\n",
    "\n",
    "# Define the folder path\n",
    "folder_path = '/path/to/folder/'\n",
    "\n",
    "# Loop over each file in the folder\n",
    "for file_name in os.listdir(folder_path):\n",
    "    if file_name.endswith('.txt'):\n",
    "        # Get the full file path\n",
    "        file_path = os.path.join(folder_path, file_name)\n",
    "        \n",
    "        # Read the file line by line\n",
    "        with open(file_path, 'r') as file:\n",
    "            lines = file.readlines()\n",
    "        \n",
    "        # Check if the last line starts with '1'\n",
    "        if lines[-1].startswith('1'):\n",
    "            # Remove the last line from the list of lines\n",
    "            lines = lines[:-1]\n",
    "            \n",
    "            # Write the updated lines back to the file\n",
    "            with open(file_path, 'w') as file:\n",
    "                file.writelines(lines)\n"
   ]
  }
 ],
 "metadata": {
  "kernelspec": {
   "display_name": "Python 3 (ipykernel)",
   "language": "python",
   "name": "python3"
  },
  "language_info": {
   "codemirror_mode": {
    "name": "ipython",
    "version": 3
   },
   "file_extension": ".py",
   "mimetype": "text/x-python",
   "name": "python",
   "nbconvert_exporter": "python",
   "pygments_lexer": "ipython3",
   "version": "3.9.13"
  }
 },
 "nbformat": 4,
 "nbformat_minor": 5
}
