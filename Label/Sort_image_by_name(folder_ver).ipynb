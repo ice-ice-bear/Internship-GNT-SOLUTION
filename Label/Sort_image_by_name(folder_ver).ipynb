{
 "cells": [
  {
   "cell_type": "code",
   "execution_count": 13,
   "id": "49740d58",
   "metadata": {
    "scrolled": true
   },
   "outputs": [
    {
     "name": "stdout",
     "output_type": "stream",
     "text": [
      "moving folder: C:\\Users\\GnTRnD\\Desktop\\temp_file\\230316\\200912 to C:\\Users\\GnTRnD\\Desktop\\temp_file\\5.야간실험-쏘렌토\\200912\n",
      "moving folder: C:\\Users\\GnTRnD\\Desktop\\temp_file\\230316\\200946 to C:\\Users\\GnTRnD\\Desktop\\temp_file\\5.야간실험-쏘렌토\\200946\n",
      "moving folder: C:\\Users\\GnTRnD\\Desktop\\temp_file\\230316\\201019 to C:\\Users\\GnTRnD\\Desktop\\temp_file\\5.야간실험-쏘렌토\\201019\n",
      "moving folder: C:\\Users\\GnTRnD\\Desktop\\temp_file\\230316\\201053 to C:\\Users\\GnTRnD\\Desktop\\temp_file\\5.야간실험-쏘렌토\\201053\n",
      "moving folder: C:\\Users\\GnTRnD\\Desktop\\temp_file\\230316\\201152 to C:\\Users\\GnTRnD\\Desktop\\temp_file\\5.야간실험-쏘렌토\\201152\n",
      "moving folder: C:\\Users\\GnTRnD\\Desktop\\temp_file\\230316\\201227 to C:\\Users\\GnTRnD\\Desktop\\temp_file\\5.야간실험-쏘렌토\\201227\n",
      "moving folder: C:\\Users\\GnTRnD\\Desktop\\temp_file\\230316\\201302 to C:\\Users\\GnTRnD\\Desktop\\temp_file\\5.야간실험-쏘렌토\\201302\n",
      "moving folder: C:\\Users\\GnTRnD\\Desktop\\temp_file\\230316\\201337 to C:\\Users\\GnTRnD\\Desktop\\temp_file\\5.야간실험-쏘렌토\\201337\n",
      "moving folder: C:\\Users\\GnTRnD\\Desktop\\temp_file\\230316\\201435 to C:\\Users\\GnTRnD\\Desktop\\temp_file\\5.야간실험-쏘렌토\\201435\n",
      "moving folder: C:\\Users\\GnTRnD\\Desktop\\temp_file\\230316\\201509 to C:\\Users\\GnTRnD\\Desktop\\temp_file\\5.야간실험-쏘렌토\\201509\n",
      "moving folder: C:\\Users\\GnTRnD\\Desktop\\temp_file\\230316\\201546 to C:\\Users\\GnTRnD\\Desktop\\temp_file\\5.야간실험-쏘렌토\\201546\n",
      "moving folder: C:\\Users\\GnTRnD\\Desktop\\temp_file\\230316\\201621 to C:\\Users\\GnTRnD\\Desktop\\temp_file\\5.야간실험-쏘렌토\\201621\n",
      "moving folder: C:\\Users\\GnTRnD\\Desktop\\temp_file\\230316\\201708 to C:\\Users\\GnTRnD\\Desktop\\temp_file\\5.야간실험-쏘렌토\\201708\n",
      "moving folder: C:\\Users\\GnTRnD\\Desktop\\temp_file\\230316\\201746 to C:\\Users\\GnTRnD\\Desktop\\temp_file\\5.야간실험-쏘렌토\\201746\n",
      "moving folder: C:\\Users\\GnTRnD\\Desktop\\temp_file\\230316\\201825 to C:\\Users\\GnTRnD\\Desktop\\temp_file\\5.야간실험-쏘렌토\\201825\n",
      "moving folder: C:\\Users\\GnTRnD\\Desktop\\temp_file\\230316\\201904 to C:\\Users\\GnTRnD\\Desktop\\temp_file\\5.야간실험-쏘렌토\\201904\n",
      "moving folder: C:\\Users\\GnTRnD\\Desktop\\temp_file\\230316\\202021 to C:\\Users\\GnTRnD\\Desktop\\temp_file\\5.야간실험-쏘렌토\\202021\n",
      "moving folder: C:\\Users\\GnTRnD\\Desktop\\temp_file\\230316\\202101 to C:\\Users\\GnTRnD\\Desktop\\temp_file\\5.야간실험-쏘렌토\\202101\n",
      "moving folder: C:\\Users\\GnTRnD\\Desktop\\temp_file\\230316\\202225 to C:\\Users\\GnTRnD\\Desktop\\temp_file\\5.야간실험-쏘렌토\\202225\n",
      "moving folder: C:\\Users\\GnTRnD\\Desktop\\temp_file\\230316\\202258 to C:\\Users\\GnTRnD\\Desktop\\temp_file\\5.야간실험-쏘렌토\\202258\n",
      "moving folder: C:\\Users\\GnTRnD\\Desktop\\temp_file\\230316\\202356 to C:\\Users\\GnTRnD\\Desktop\\temp_file\\5.야간실험-쏘렌토\\202356\n",
      "moving folder: C:\\Users\\GnTRnD\\Desktop\\temp_file\\230316\\202430 to C:\\Users\\GnTRnD\\Desktop\\temp_file\\5.야간실험-쏘렌토\\202430\n",
      "moving folder: C:\\Users\\GnTRnD\\Desktop\\temp_file\\230316\\202504 to C:\\Users\\GnTRnD\\Desktop\\temp_file\\5.야간실험-쏘렌토\\202504\n",
      "moving folder: C:\\Users\\GnTRnD\\Desktop\\temp_file\\230316\\202537 to C:\\Users\\GnTRnD\\Desktop\\temp_file\\5.야간실험-쏘렌토\\202537\n",
      "moving folder: C:\\Users\\GnTRnD\\Desktop\\temp_file\\230316\\202614 to C:\\Users\\GnTRnD\\Desktop\\temp_file\\5.야간실험-쏘렌토\\202614\n",
      "moving folder: C:\\Users\\GnTRnD\\Desktop\\temp_file\\230316\\202647 to C:\\Users\\GnTRnD\\Desktop\\temp_file\\5.야간실험-쏘렌토\\202647\n",
      "moving folder: C:\\Users\\GnTRnD\\Desktop\\temp_file\\230316\\202723 to C:\\Users\\GnTRnD\\Desktop\\temp_file\\5.야간실험-쏘렌토\\202723\n",
      "moving folder: C:\\Users\\GnTRnD\\Desktop\\temp_file\\230316\\202758 to C:\\Users\\GnTRnD\\Desktop\\temp_file\\5.야간실험-쏘렌토\\202758\n",
      "moving folder: C:\\Users\\GnTRnD\\Desktop\\temp_file\\230316\\202858 to C:\\Users\\GnTRnD\\Desktop\\temp_file\\5.야간실험-쏘렌토\\202858\n",
      "moving folder: C:\\Users\\GnTRnD\\Desktop\\temp_file\\230316\\202933 to C:\\Users\\GnTRnD\\Desktop\\temp_file\\5.야간실험-쏘렌토\\202933\n",
      "moving folder: C:\\Users\\GnTRnD\\Desktop\\temp_file\\230316\\203009 to C:\\Users\\GnTRnD\\Desktop\\temp_file\\5.야간실험-쏘렌토\\203009\n",
      "moving folder: C:\\Users\\GnTRnD\\Desktop\\temp_file\\230316\\203046 to C:\\Users\\GnTRnD\\Desktop\\temp_file\\5.야간실험-쏘렌토\\203046\n"
     ]
    }
   ],
   "source": [
    "import os\n",
    "import shutil\n",
    "\n",
    "image_folder = r'C:\\Users\\GnTRnD\\Desktop\\temp_file\\230316'\n",
    "text_file = r'C:\\Users\\GnTRnD\\Desktop\\temp_file\\5.야간실험-쏘렌토.txt'\n",
    "output_folder = r'C:\\Users\\GnTRnD\\Desktop\\temp_file\\5.야간실험-쏘렌토'\n",
    "\n",
    "with open(text_file, 'r') as f:\n",
    "    exclude_list = set(f.read().splitlines())\n",
    "\n",
    "for root, dirs, files in os.walk(image_folder):\n",
    "    for folder in dirs:\n",
    "        if folder in exclude_list:\n",
    "            folder_path = os.path.join(root, folder)\n",
    "            output_path = os.path.join(output_folder, folder)\n",
    "            print('moving folder:', folder_path, 'to', output_path)\n",
    "            shutil.move(folder_path, output_path)\n"
   ]
  },
  {
   "cell_type": "code",
   "execution_count": null,
   "id": "b074d341",
   "metadata": {},
   "outputs": [],
   "source": []
  }
 ],
 "metadata": {
  "kernelspec": {
   "display_name": "Python 3 (ipykernel)",
   "language": "python",
   "name": "python3"
  },
  "language_info": {
   "codemirror_mode": {
    "name": "ipython",
    "version": 3
   },
   "file_extension": ".py",
   "mimetype": "text/x-python",
   "name": "python",
   "nbconvert_exporter": "python",
   "pygments_lexer": "ipython3",
   "version": "3.9.13"
  }
 },
 "nbformat": 4,
 "nbformat_minor": 5
}
