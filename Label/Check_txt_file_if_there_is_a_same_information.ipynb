{
 "cells": [
  {
   "cell_type": "code",
   "execution_count": 2,
   "id": "57de80ff",
   "metadata": {},
   "outputs": [],
   "source": [
    "import os\n",
    "\n",
    "# Specify the input and output file paths\n",
    "input_path = \"C:/Users/GnTRnD/Desktop/temp_file/test.txt\"\n",
    "output_path = \"C:/Users/GnTRnD/Desktop/temp_file/test1.txt\"\n",
    "\n",
    "# Open the input file\n",
    "with open(input_path, 'r') as input_file:\n",
    "\n",
    "    # Open the output file\n",
    "    with open(output_path, 'w') as output_file:\n",
    "\n",
    "        # Loop through each line in the input file\n",
    "        for line in input_file:\n",
    "\n",
    "            # Check if the line matches the string you want to remove\n",
    "            if line.strip() == \"string_to_remove\":\n",
    "                continue  # Skip this line and move on to the next one\n",
    "\n",
    "            # Write the line to the output file if it doesn't match the string to remove\n",
    "            output_file.write(line)\n"
   ]
  },
  {
   "cell_type": "code",
   "execution_count": null,
   "id": "d94bb755",
   "metadata": {},
   "outputs": [],
   "source": [
    "\n"
   ]
  }
 ],
 "metadata": {
  "kernelspec": {
   "display_name": "Python 3 (ipykernel)",
   "language": "python",
   "name": "python3"
  },
  "language_info": {
   "codemirror_mode": {
    "name": "ipython",
    "version": 3
   },
   "file_extension": ".py",
   "mimetype": "text/x-python",
   "name": "python",
   "nbconvert_exporter": "python",
   "pygments_lexer": "ipython3",
   "version": "3.9.13"
  }
 },
 "nbformat": 4,
 "nbformat_minor": 5
}
