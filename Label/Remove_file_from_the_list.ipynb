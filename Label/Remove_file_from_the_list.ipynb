{
 "cells": [
  {
   "cell_type": "code",
   "execution_count": 3,
   "id": "4f703575",
   "metadata": {},
   "outputs": [
    {
     "name": "stdout",
     "output_type": "stream",
     "text": [
      "\\\\schoolnas-work\\schoolnas-work\\seatbelt\\carnival\\jj_230307_carinival\\left1_230307_160637_0.txt not found in //schoolnas-work/schoolnas-work/seatbelt/carnival/jj_230307_carinival\n",
      "The following files were removed:\n",
      "\\\\schoolnas-work\\schoolnas-work\\seatbelt\\carnival\\jj_230307_carinival\\left1_230307_160637_0.txt\n",
      "\\\\schoolnas-work\\schoolnas-work\\seatbelt\\carnival\\jj_230307_carinival\\left1_230307_161025_0.txt\n",
      "\\\\schoolnas-work\\schoolnas-work\\seatbelt\\carnival\\jj_230307_carinival\\left1_230307_161034_0.txt\n",
      "\\\\schoolnas-work\\schoolnas-work\\seatbelt\\carnival\\jj_230307_carinival\\left1_230307_161055_0.txt\n",
      "\\\\schoolnas-work\\schoolnas-work\\seatbelt\\carnival\\jj_230307_carinival\\left1_230307_161527_0.txt\n",
      "\\\\schoolnas-work\\schoolnas-work\\seatbelt\\carnival\\jj_230307_carinival\\left1_230307_162023_0.txt\n",
      "\\\\schoolnas-work\\schoolnas-work\\seatbelt\\carnival\\jj_230307_carinival\\left1_230307_162220_0.txt\n",
      "\\\\schoolnas-work\\schoolnas-work\\seatbelt\\carnival\\jj_230307_carinival\\left1_230307_162337_0.txt\n",
      "\\\\schoolnas-work\\schoolnas-work\\seatbelt\\carnival\\jj_230307_carinival\\left1_230307_162434_0.txt\n",
      "\\\\schoolnas-work\\schoolnas-work\\seatbelt\\carnival\\jj_230307_carinival\\left1_230307_162454_0.txt\n",
      "\\\\schoolnas-work\\schoolnas-work\\seatbelt\\carnival\\jj_230307_carinival\\left1_230307_163657_0.txt\n",
      "\\\\schoolnas-work\\schoolnas-work\\seatbelt\\carnival\\jj_230307_carinival\\left1_230307_164042_0.txt\n",
      "\\\\schoolnas-work\\schoolnas-work\\seatbelt\\carnival\\jj_230307_carinival\\left1_230307_164653_0.txt\n"
     ]
    }
   ],
   "source": [
    "import os\n",
    "\n",
    "# Path to the folder containing the images\n",
    "image_folder = \"//schoolnas-work/schoolnas-work/seatbelt/carnival/jj_230307_carinival\"\n",
    "\n",
    "# Path to the text file with the image list\n",
    "image_list_file = \"C:/Users/GnTRnD/Desktop/dw_0307_160000_error_list.txt\"\n",
    "\n",
    "# Read the image list file\n",
    "with open(image_list_file, \"r\") as f:\n",
    "    image_list = [line.strip() for line in f]\n",
    "\n",
    "# Remove the specified image from the folder\n",
    "removed_files = []\n",
    "for image_name in image_list:\n",
    "    image_path = os.path.join(image_folder, image_name)\n",
    "    if os.path.exists(image_path):\n",
    "        os.remove(image_path)\n",
    "        removed_files.append(image_name)\n",
    "    else:\n",
    "        print(f\"{image_name} not found in {image_folder}\")\n",
    "\n",
    "if removed_files:\n",
    "    print(\"The following files were removed:\")\n",
    "    print(\"\\n\".join(removed_files))\n"
   ]
  },
  {
   "cell_type": "code",
   "execution_count": null,
   "id": "d619850f",
   "metadata": {},
   "outputs": [],
   "source": []
  }
 ],
 "metadata": {
  "kernelspec": {
   "display_name": "Python 3 (ipykernel)",
   "language": "python",
   "name": "python3"
  },
  "language_info": {
   "codemirror_mode": {
    "name": "ipython",
    "version": 3
   },
   "file_extension": ".py",
   "mimetype": "text/x-python",
   "name": "python",
   "nbconvert_exporter": "python",
   "pygments_lexer": "ipython3",
   "version": "3.9.13"
  }
 },
 "nbformat": 4,
 "nbformat_minor": 5
}
