{
 "cells": [
  {
   "cell_type": "code",
   "execution_count": 1,
   "metadata": {},
   "outputs": [
    {
     "name": "stderr",
     "output_type": "stream",
     "text": [
      "Unzip file: 100%|██████████| 933/933 [00:04<00:00, 208.39file/s]\n"
     ]
    }
   ],
   "source": [
    "import zipfile\n",
    "import tqdm\n",
    "\n",
    "folder_path = \"S:/04.seatbelt/01.수집데이터/[R2022-02]대왕판교_수집데이터/daewangpangyo\"\n",
    "\n",
    "folder_name = \"230520\"\n",
    "\n",
    "# Open the zip file\n",
    "with zipfile.ZipFile(folder_path + '/' + folder_name + '.zip', \"r\") as zip_ref:\n",
    "\n",
    "    # Extract all the files to the directory \"/my/new/directory\"\n",
    "    for file in tqdm.tqdm(zip_ref.namelist(), desc = 'Unzip file', unit = 'file'):\n",
    "        zip_ref.extract(file, folder_path + \"/\" + folder_name)"
   ]
  },
  {
   "cell_type": "code",
   "execution_count": 2,
   "metadata": {},
   "outputs": [
    {
     "name": "stderr",
     "output_type": "stream",
     "text": [
      "Copying Files: 100%|██████████| 348/348 [00:03<00:00, 104.97file/s]\n"
     ]
    }
   ],
   "source": [
    "import os\n",
    "import shutil\n",
    "from tqdm import tqdm\n",
    "\n",
    "folder_path = \"S:/04.seatbelt/01.수집데이터/[R2022-02]대왕판교_수집데이터/daewangpangyo\"\n",
    "\n",
    "# 소스 디렉토리와 복사할 디렉토리를 설정\n",
    "src_dir = folder_path + \"/\" + folder_name # 소스 디렉토리\n",
    "copy_dir = \"R:/seatbelt/dp_daily_testdata\" + \"/\" + folder_name # 복사 디렉토리\n",
    "\n",
    "# 복사 디렉토리에 폴더 생성\n",
    "os.makedirs(copy_dir, exist_ok=True)\n",
    "\n",
    "# 조건을 만족하는 파일 수와 tqdm을 위한 파일 리스트 초기화\n",
    "total_files = 0\n",
    "file_list = []\n",
    "\n",
    "# 소스 디렉토리와 그 하위 디렉토리의 모든 파일을 순환하며 조건에 맞는 파일 수와 파일 리스트 계산\n",
    "for root, dirs, files in os.walk(src_dir):\n",
    "    for filename in files:\n",
    "        # 파일이 \".jpg\", \".jpeg\", \".png\" 확장자를 가진 이미지 파일이고 파일 이름이 \"right1\" 또는 \"left1\"을 포함하며 \"_yolo\"을 포함하지 않는지 확인\n",
    "        if filename.lower().endswith((\".jpg\", \".jpeg\", \".png\")) and (\"_r_\" in filename.lower() or \"_l_\" in filename.lower()) and \"_yolo\" not in filename.lower():\n",
    "            total_files += 1\n",
    "            file_list.append((root, filename))\n",
    "\n",
    "# tqdm을 사용하여 파일 복사 진행 상황 표시\n",
    "with tqdm(total=total_files, desc=\"Copying Files\", unit=\"file\") as pbar:\n",
    "    for root, filename in file_list:\n",
    "        src_path = os.path.join(root, filename)\n",
    "        copy_path = os.path.join(copy_dir, filename)\n",
    "        shutil.copy(src_path, copy_path)\n",
    "        pbar.update(1)"
   ]
  },
  {
   "cell_type": "code",
   "execution_count": 3,
   "metadata": {},
   "outputs": [
    {
     "name": "stderr",
     "output_type": "stream",
     "text": [
      "Renaming Files: 100%|██████████| 15666/15666 [01:27<00:00, 179.26file/s]\n"
     ]
    }
   ],
   "source": [
    "import os\n",
    "import tqdm\n",
    "\n",
    "\n",
    "folder_path = \"R:/seatbelt/dp_daily_testdata/230503\"\n",
    "\n",
    "with tqdm.tqdm(total=len(os.listdir(folder_path)), desc=\"Renaming Files\", unit='file') as pbar:\n",
    "    for file_name in os.listdir(folder_path):\n",
    "        if file_name.endswith(\".jpg\") or file_name.endswith(\".txt\"):\n",
    "            new_file_name = file_name.replace(\"kc_\", \"dp_\")\n",
    "            os.rename(os.path.join(folder_path, file_name), os.path.join(folder_path, new_file_name))\n",
    "            pbar.update(1)"
   ]
  }
 ],
 "metadata": {
  "kernelspec": {
   "display_name": "base",
   "language": "python",
   "name": "python3"
  },
  "language_info": {
   "codemirror_mode": {
    "name": "ipython",
    "version": 3
   },
   "file_extension": ".py",
   "mimetype": "text/x-python",
   "name": "python",
   "nbconvert_exporter": "python",
   "pygments_lexer": "ipython3",
   "version": "3.9.13"
  },
  "orig_nbformat": 4
 },
 "nbformat": 4,
 "nbformat_minor": 2
}
