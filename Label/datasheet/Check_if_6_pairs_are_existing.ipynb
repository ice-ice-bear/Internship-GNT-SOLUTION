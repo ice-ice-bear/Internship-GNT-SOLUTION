{
 "cells": [
  {
   "cell_type": "code",
   "execution_count": 13,
   "metadata": {},
   "outputs": [
    {
     "name": "stdout",
     "output_type": "stream",
     "text": [
      "There are other files with the same third name:\n",
      "dp_230606_025802_r_0.txt\n",
      "dp_230606_025802_r_1.txt\n",
      "dp_230606_025802_l_2.txt\n",
      "dp_230606_025802_r_2.txt\n",
      "dp_230606_025802_l_0.txt\n",
      "dp_230606_025802_l_1.txt\n"
     ]
    }
   ],
   "source": [
    "import os\n",
    "\n",
    "folder_path = \"R:\\seatbelt\\dp_daily_testdata\\detect\\dp_230606\\labels\"\n",
    "target_file = \"dp_230606_025802_l_0.txt\"\n",
    "third_name = target_file.split(\"_\")[2]\n",
    "\n",
    "# Check if any other files have the same third name\n",
    "files = os.listdir(folder_path)\n",
    "same_name_files = [file for file in files if file.split(\"_\")[2] == third_name]\n",
    "\n",
    "if len(same_name_files) > 1:\n",
    "    print(\"There are other files with the same third name:\")\n",
    "    for file in same_name_files:\n",
    "        print(file)\n",
    "else:\n",
    "    print(\"No other files have the same third name.\")\n"
   ]
  },
  {
   "cell_type": "code",
   "execution_count": 13,
   "metadata": {},
   "outputs": [
    {
     "name": "stdout",
     "output_type": "stream",
     "text": [
      "The third name '075248' appears less than six times.\n"
     ]
    }
   ],
   "source": [
    "import os\n",
    "\n",
    "folder_path = r\"R:\\seatbelt\\jj_daily_testdata\\detect\\jj_230616\\labels\"\n",
    "files = os.listdir(folder_path)\n",
    "\n",
    "name_counts = {}\n",
    "for file in files:\n",
    "    third_name = file.split(\"_\")[2]\n",
    "    name_counts[third_name] = name_counts.get(third_name, 0) + 1\n",
    "\n",
    "for third_name, count in name_counts.items():\n",
    "    if count < 6:\n",
    "        print(f\"The third name '{third_name}' appears less than six times.\")\n"
   ]
  },
  {
   "cell_type": "code",
   "execution_count": 5,
   "metadata": {},
   "outputs": [
    {
     "name": "stdout",
     "output_type": "stream",
     "text": [
      "The file 'dp_230508_170451_r_2.txt' has been created.\n",
      "The file 'dp_230508_170451_l_0.txt' has been created.\n"
     ]
    }
   ],
   "source": [
    "import os\n",
    "\n",
    "folder_path = r\"R:\\seatbelt\\dp_daily_testdata\\detect\\dp_111111\\labels\"\n",
    "files = os.listdir(folder_path)\n",
    "\n",
    "expected_files = ['_r_0', '_r_1', '_r_2', '_l_0', '_l_1', '_l_2']\n",
    "missing_files = []\n",
    "\n",
    "name_counts = {}\n",
    "for file in files:\n",
    "    road = file.split(\"_\")[0]\n",
    "    date = file.split(\"_\")[1]\n",
    "    third_name = file.split(\"_\")[2]\n",
    "    name_counts[third_name] = name_counts.get(third_name, 0) + 1\n",
    "\n",
    "for third_name in name_counts:\n",
    "    if name_counts[third_name] < 6:\n",
    "        for expected_file in expected_files:\n",
    "            missing_file = f\"{road}_{date}_{third_name}{expected_file}.txt\"\n",
    "            if missing_file not in files:\n",
    "                missing_files.append(missing_file)\n",
    "\n",
    "for missing_file in missing_files:\n",
    "    open(os.path.join(folder_path, missing_file), 'w').close()\n",
    "    print(f\"The file '{missing_file}' has been created.\")\n",
    "\n",
    "if len(missing_files) == 0:\n",
    "    print(\"No missing files found.\")\n"
   ]
  },
  {
   "cell_type": "code",
   "execution_count": null,
   "metadata": {},
   "outputs": [],
   "source": []
  }
 ],
 "metadata": {
  "kernelspec": {
   "display_name": "base",
   "language": "python",
   "name": "python3"
  },
  "language_info": {
   "codemirror_mode": {
    "name": "ipython",
    "version": 3
   },
   "file_extension": ".py",
   "mimetype": "text/x-python",
   "name": "python",
   "nbconvert_exporter": "python",
   "pygments_lexer": "ipython3",
   "version": "3.11.3"
  },
  "orig_nbformat": 4
 },
 "nbformat": 4,
 "nbformat_minor": 2
}
