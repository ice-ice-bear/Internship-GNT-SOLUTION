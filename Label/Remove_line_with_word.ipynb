{
 "cells": [
  {
   "cell_type": "code",
   "execution_count": 3,
   "id": "fb631960",
   "metadata": {},
   "outputs": [],
   "source": [
    "#removing the last line\n",
    "\n",
    "import os\n",
    "\n",
    "# Define the folder path\n",
    "folder_path = '/path/to/folder/'\n",
    "\n",
    "# Loop over each file in the folder\n",
    "for file_name in os.listdir(folder_path):\n",
    "    if file_name.endswith('.txt'):\n",
    "        # Get the full file path\n",
    "        file_path = os.path.join(folder_path, file_name)\n",
    "        \n",
    "        # Read the file line by line\n",
    "        with open(file_path, 'r') as file:\n",
    "            lines = file.readlines()\n",
    "        \n",
    "        # Check if the last line starts with '1'\n",
    "        if lines[-1].startswith('1'):\n",
    "            # Remove the last line from the list of lines\n",
    "            lines = lines[:-1]\n",
    "            \n",
    "            # Write the updated lines back to the file\n",
    "            with open(file_path, 'w') as file:\n",
    "                file.writelines(lines)"
   ]
  },
  {
   "cell_type": "code",
   "execution_count": 2,
   "id": "273a2d14",
   "metadata": {},
   "outputs": [
    {
     "name": "stdout",
     "output_type": "stream",
     "text": [
      "Empty file: right1_221116_094542_0.txt\n"
     ]
    }
   ],
   "source": [
    "#remove line except the second line\n",
    "\n",
    "import os\n",
    "\n",
    "# Define the folder path\n",
    "folder_path = 'C:/Users/GnTRnD/Desktop/temp_file/죽전수집데이터_230120(선별이미지)_230210'\n",
    "\n",
    "# Loop over each file in the folder\n",
    "for file_name in os.listdir(folder_path):\n",
    "    if file_name.endswith('.txt'):\n",
    "        # Get the full file path\n",
    "        file_path = os.path.join(folder_path, file_name)\n",
    "        \n",
    "        # Read the file line by line\n",
    "        try:\n",
    "            with open(file_path, 'r') as file:\n",
    "                lines = file.readlines()\n",
    "        except IndexError:\n",
    "            print(f\"IndexError occurred for file: {file_name}\")\n",
    "            continue\n",
    "        \n",
    "        # Remove lines that start with '1', except for the second line\n",
    "        if lines:\n",
    "            new_lines = [lines[0]]  # keep the first line\n",
    "            for i in range(1, len(lines)):\n",
    "                if not lines[i].startswith('1') or i == 1:\n",
    "                    new_lines.append(lines[i])\n",
    "            \n",
    "            # Write the updated lines back to the file\n",
    "            with open(file_path, 'w') as file:\n",
    "                file.writelines(new_lines)\n",
    "        else:\n",
    "            print(f\"Empty file: {file_name}\")\n"
   ]
  },
  {
   "cell_type": "code",
   "execution_count": null,
   "id": "78f4a0df",
   "metadata": {},
   "outputs": [],
   "source": []
  }
 ],
 "metadata": {
  "kernelspec": {
   "display_name": "Python 3 (ipykernel)",
   "language": "python",
   "name": "python3"
  },
  "language_info": {
   "codemirror_mode": {
    "name": "ipython",
    "version": 3
   },
   "file_extension": ".py",
   "mimetype": "text/x-python",
   "name": "python",
   "nbconvert_exporter": "python",
   "pygments_lexer": "ipython3",
   "version": "3.9.13"
  }
 },
 "nbformat": 4,
 "nbformat_minor": 5
}
